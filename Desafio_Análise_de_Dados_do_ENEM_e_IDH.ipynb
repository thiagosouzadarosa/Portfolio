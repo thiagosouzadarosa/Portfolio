{
  "cells": [
    {
      "cell_type": "markdown",
      "metadata": {
        "id": "view-in-github",
        "colab_type": "text"
      },
      "source": [
        "<a href=\"https://colab.research.google.com/github/thiagosouzadarosa/Portfolio/blob/main/Desafio_An%C3%A1lise_de_Dados_do_ENEM_e_IDH.ipynb\" target=\"_parent\"><img src=\"https://colab.research.google.com/assets/colab-badge.svg\" alt=\"Open In Colab\"/></a>"
      ]
    },
    {
      "cell_type": "markdown",
      "id": "e5dd69ac",
      "metadata": {
        "id": "e5dd69ac"
      },
      "source": [
        "# **Desafio Análise de Dados do ENEM e IDH**"
      ]
    },
    {
      "cell_type": "markdown",
      "id": "4c63a5d9",
      "metadata": {
        "id": "4c63a5d9"
      },
      "source": [
        "**Imagine que você faz parte do time de ciência de dados de uma instituição filantrópica que atua com projetos voltados para melhoria da educação de ensino médio e do IDHM, dos municípios com nível baixo ou muito baixo.**\n",
        "\n"
      ]
    },
    {
      "cell_type": "markdown",
      "id": "198c9008",
      "metadata": {
        "id": "198c9008"
      },
      "source": [
        "<img src=\"https://www.br.undp.org/content/dam/brazil/img/assets/IDH/undp-br-mapa-brasileiro-municipios-novo-1-2010.png\" alt=\"drawing\" width=\"500\"/>"
      ]
    },
    {
      "cell_type": "markdown",
      "id": "04219e2a",
      "metadata": {
        "id": "04219e2a"
      },
      "source": [
        "**Essa instituição seleciona anualmente 100 escolas em todo o país para receber USD 10 por aluno/mês, durante 12 meses, para as turmas do ensino médio.**\n",
        "**Apesar da boa vontade, ainda não há clareza sobre os critérios de seleção.**\n",
        "**Por esse motivo, você foi convidado a realizar uma análise exploratória de dados do ENEM (2017, 2018 e 2019) que possa direcionar a instituição na tomada de decisão.**"
      ]
    },
    {
      "cell_type": "markdown",
      "id": "be9f69dd",
      "metadata": {
        "id": "be9f69dd"
      },
      "source": [
        "## **1. Qual o valor total a ser investido, considerando que cada escola possui apenas 1 turma com 30 alunos para cada série do ensino médio?**"
      ]
    },
    {
      "cell_type": "markdown",
      "id": "18a3b57a",
      "metadata": {
        "id": "18a3b57a"
      },
      "source": [
        "**Neste bloco vamos importar bibliotecas necessárias para a realização da análise.**"
      ]
    },
    {
      "cell_type": "code",
      "execution_count": null,
      "id": "dc57553a",
      "metadata": {
        "id": "dc57553a"
      },
      "outputs": [],
      "source": [
        "import pandas as pd\n",
        "import os\n",
        "import glob\n",
        "import zipfile\n",
        "import yfinance as yf\n",
        "import matplotlib.pyplot as plt\n",
        "import seaborn as sns"
      ]
    },
    {
      "cell_type": "markdown",
      "id": "68034ff0",
      "metadata": {
        "id": "68034ff0"
      },
      "source": [
        "Com base nas informações que temos, podemos obter o valor total a ser investido por meio da multiplicação de:\n",
        "\n",
        "* Número de escolas.\n",
        "* Número de série de ensino médio para cada escola.\n",
        "* Número de alunos para cada série por escola.\n",
        "* Valor que cada aluno receberá por mês.\n",
        "* Período que será concedido o benefício."
      ]
    },
    {
      "cell_type": "code",
      "execution_count": null,
      "id": "5cd05722",
      "metadata": {
        "id": "5cd05722"
      },
      "outputs": [],
      "source": [
        "n_escolas = 100\n",
        "series_ensino_medio = 3\n",
        "n_alunos_serie = 30\n",
        "USD_aluno_mes = 10\n",
        "periodo_meses = 12\n",
        "\n",
        "valor_total = n_escolas * series_ensino_medio * n_alunos_serie * USD_aluno_mes * periodo_meses"
      ]
    },
    {
      "cell_type": "code",
      "execution_count": null,
      "id": "7e0bf564",
      "metadata": {
        "id": "7e0bf564",
        "outputId": "94850728-fd9d-4d57-942c-e63e3811a5be"
      },
      "outputs": [
        {
          "name": "stdout",
          "output_type": "stream",
          "text": [
            "Valor total a ser investido: USD 1080000\n"
          ]
        }
      ],
      "source": [
        "print(f'Valor total a ser investido: USD {valor_total}')"
      ]
    },
    {
      "cell_type": "markdown",
      "id": "8da2e15f",
      "metadata": {
        "id": "8da2e15f"
      },
      "source": [
        "Como podemos observar, para que todas as condições forem satisfeitas a instituição deverá investir um total de **1.080.000,00 dólares**."
      ]
    },
    {
      "cell_type": "markdown",
      "id": "db4bed0e",
      "metadata": {
        "id": "db4bed0e"
      },
      "source": [
        "## **2. Quanto seria esse valor com a cotação do dólar de janeiro de 2019 e dezembro de 2020?**"
      ]
    },
    {
      "cell_type": "markdown",
      "id": "1b39864a",
      "metadata": {
        "id": "1b39864a"
      },
      "source": [
        "Para obtermos esse valor em reais, vamos obter a cotação média do dólar para os meses indicados e fazer a conversão."
      ]
    },
    {
      "cell_type": "code",
      "execution_count": null,
      "id": "93a2dcc8",
      "metadata": {
        "id": "93a2dcc8",
        "outputId": "cc6a000f-a6f0-4021-dd1e-8a8d73ef9eb9"
      },
      "outputs": [
        {
          "name": "stdout",
          "output_type": "stream",
          "text": [
            "[*********************100%***********************]  1 of 1 completed\n",
            "[*********************100%***********************]  1 of 1 completed\n"
          ]
        }
      ],
      "source": [
        "dolar2019 = yf.download('USDBRL=X', start = '2019-01-01', end = '2019-01-31')\n",
        "dolar2019.rename(columns = {'Adj Close':'Dolar'}, inplace = True)\n",
        "dolar2019 = dolar2019.drop(dolar2019.columns[[0, 1, 2, 3, 5]], axis = 1)\n",
        "media_dolar2019 = dolar2019['Dolar'].mean()\n",
        "\n",
        "dolar2020 = yf.download('USDBRL=X', start = '2020-12-01', end = '2020-12-31')\n",
        "dolar2020.rename(columns = {'Adj Close':'Dolar'}, inplace = True)\n",
        "dolar2020 = dolar2020.drop(dolar2020.columns[[0, 1, 2, 3, 5]], axis = 1)\n",
        "media_dolar2020 = dolar2020['Dolar'].mean()"
      ]
    },
    {
      "cell_type": "code",
      "execution_count": null,
      "id": "c4c4153a",
      "metadata": {
        "id": "c4c4153a",
        "outputId": "71e643de-a7eb-4899-fc7e-8dd95d92659c"
      },
      "outputs": [
        {
          "name": "stdout",
          "output_type": "stream",
          "text": [
            "Valor total com dolar em Janeiro de 2019: R$4044290.08\n",
            "Valor total com dolar em Dezembro de 2020: R$5566128.22\n"
          ]
        }
      ],
      "source": [
        "valor_reais2019 = round(valor_total * media_dolar2019, 2)\n",
        "valor_reais2020 = round(valor_total * media_dolar2020, 2)\n",
        "\n",
        "print(f'Valor total com dolar em Janeiro de 2019: R${valor_reais2019}')\n",
        "print(f'Valor total com dolar em Dezembro de 2020: R${valor_reais2020}')"
      ]
    },
    {
      "cell_type": "markdown",
      "id": "0ccfc209",
      "metadata": {
        "id": "0ccfc209"
      },
      "source": [
        "Dessa forma, se o valor fosse investido em Janeiro de 2019 resultaria em média num total de **4.044.290,08 reais**.\n",
        "\n",
        "Caso o valor fosse investido em Dezembro de 2020 resultaria em média num total de **5.566.128,22 reais**."
      ]
    },
    {
      "cell_type": "markdown",
      "id": "afbfbeb4",
      "metadata": {
        "id": "afbfbeb4"
      },
      "source": [
        "## **3. Quais dados (arquivos) você utilizou, onde e como os coletou?**"
      ]
    },
    {
      "cell_type": "markdown",
      "id": "2f72891c",
      "metadata": {
        "id": "2f72891c"
      },
      "source": [
        "Utilizou-se os arquivos de extensão .csv contendo os microdados do Enem dos anos de 2017, 2018 e 2019. Esses arquivos foram obtidos pelo site do Inep, disponível em https://www.gov.br/inep/pt-br/acesso-a-informacao/dados-abertos/microdados/enem\n",
        "\n",
        "Utilizou-se também o arquivo de extensão .xlsx contendo os dados do Censo Demográfico dos anos de 1991, 2000 e 2010. Esse arquivo foi utilizado para obter as informações do ranking do IDHM diretamente da base de dados do Atlas Brasil. Está disponível em http://www.atlasbrasil.org.br/acervo/biblioteca\n",
        "\n",
        "Arquivos contendo os microdados do censo de educação básica de 2019 também foram utilizados para obter os nomes das escolas. Encontra-se disponível em: http://download.inep.gov.br/microdados/microdados_educacao_basica_2019.zip\n",
        "\n",
        "Foi realizado o download desses arquivos compactados para a máquina local, para então serem extraídos e manipulados."
      ]
    },
    {
      "cell_type": "code",
      "execution_count": null,
      "id": "299e2b55",
      "metadata": {
        "id": "299e2b55"
      },
      "outputs": [],
      "source": [
        "# mudar para o diretório contendo os dados baixados\n",
        "os.chdir('Dados')"
      ]
    },
    {
      "cell_type": "code",
      "execution_count": null,
      "id": "7820dea1",
      "metadata": {
        "id": "7820dea1",
        "outputId": "f5baa1b7-ebdd-4953-9661-7a248827a7a2"
      },
      "outputs": [
        {
          "data": {
            "text/plain": [
              "'/home/tsr/Desktop/DesafioDataScience/Dados'"
            ]
          },
          "execution_count": 7,
          "metadata": {},
          "output_type": "execute_result"
        }
      ],
      "source": [
        "# verificar se é o diretório correto\n",
        "os.getcwd()"
      ]
    },
    {
      "cell_type": "code",
      "execution_count": null,
      "id": "dd938c04",
      "metadata": {
        "id": "dd938c04",
        "outputId": "d0891f4c-9f17-4288-83a2-d9c4ba02cae8"
      },
      "outputs": [
        {
          "data": {
            "text/plain": [
              "['microdados_educacao_basica_2019.zip',\n",
              " 'censo_demografico.zip',\n",
              " '2019.zip',\n",
              " 'df.parquet',\n",
              " '2018.zip',\n",
              " '2017.zip']"
            ]
          },
          "execution_count": 8,
          "metadata": {},
          "output_type": "execute_result"
        }
      ],
      "source": [
        "# verificar os arquivos contidos na pasta\n",
        "os.listdir()"
      ]
    },
    {
      "cell_type": "code",
      "execution_count": null,
      "id": "b8c86613",
      "metadata": {
        "id": "b8c86613"
      },
      "outputs": [],
      "source": [
        "# atribuir os arquivos compactados à uma variável\n",
        "path = os.getcwd()\n",
        "zipfiles = glob.glob(path + \"/*.zip\")"
      ]
    },
    {
      "cell_type": "code",
      "execution_count": null,
      "id": "613b9ede",
      "metadata": {
        "id": "613b9ede",
        "outputId": "0f55aa7e-467c-4963-c072-9c17902cdf02"
      },
      "outputs": [
        {
          "data": {
            "text/plain": [
              "['/home/tsr/Desktop/DesafioDataScience/Dados/2019.zip',\n",
              " '/home/tsr/Desktop/DesafioDataScience/Dados/2018.zip',\n",
              " '/home/tsr/Desktop/DesafioDataScience/Dados/2017.zip']"
            ]
          },
          "execution_count": 10,
          "metadata": {},
          "output_type": "execute_result"
        }
      ],
      "source": [
        "zipfiles[2:5]"
      ]
    },
    {
      "cell_type": "code",
      "execution_count": null,
      "id": "81063303",
      "metadata": {
        "id": "81063303"
      },
      "outputs": [],
      "source": [
        "# separar os arquivos .zip que serão extraídos\n",
        "enem_files = zipfiles[2:5]\n",
        "censo_files = zipfiles[0:2]"
      ]
    },
    {
      "cell_type": "code",
      "execution_count": null,
      "id": "7a7f84e2",
      "metadata": {
        "scrolled": true,
        "id": "7a7f84e2",
        "outputId": "54bebaa9-957e-4dce-eba2-d92086abb6f9"
      },
      "outputs": [
        {
          "name": "stdout",
          "output_type": "stream",
          "text": [
            "LEIA-ME E DOCUMENTOS TÉCNICOS/\n",
            "LEIA-ME E DOCUMENTOS TÉCNICOS/matriz_referencia_enem.pdf\n",
            "LEIA-ME E DOCUMENTOS TÉCNICOS/Leia_Me_Enem_2019.pdf\n",
            "LEIA-ME E DOCUMENTOS TÉCNICOS/manual_de_redacao_do_enem_2019.pdf\n",
            "LEIA-ME E DOCUMENTOS TÉCNICOS/Edital_enem_2019.pdf\n",
            "PROVAS E GABARITOS/\n",
            "PROVAS E GABARITOS/ENEM_2019_P1_CAD_02_DIA_1_AMARELO.pdf\n",
            "PROVAS E GABARITOS/ENEM_2019_P1_CAD_02_DIA_1_AMARELO_AMPLIADA.pdf\n",
            "PROVAS E GABARITOS/ENEM_2019_P1_CAD_02_DIA_1_AMARELO_SUPERAMPLIADA.pdf\n",
            "PROVAS E GABARITOS/ENEM_2019_P1_CAD_03_DIA_1_BRANCO.pdf\n",
            "PROVAS E GABARITOS/ENEM_2019_P1_CAD_04_DIA_1_ROSA.pdf\n",
            "PROVAS E GABARITOS/ENEM_2019_P1_CAD_09_DIA_1_LARANJA_LEDOR.pdf\n",
            "PROVAS E GABARITOS/ENEM_2019_P1_CAD_10_DIA_1_VERDE_LIBRAS.pdf\n",
            "PROVAS E GABARITOS/ENEM_2019_P1_CAD_05_DIA_2_AMARELO.pdf\n",
            "PROVAS E GABARITOS/ENEM_2019_P1_GAB_02_DIA_1_AMARELO.pdf.pdf\n",
            "PROVAS E GABARITOS/ENEM_2019_P1_GAB_02_DIA_1_AMARELO_AMPLIADA.pdf\n",
            "PROVAS E GABARITOS/ENEM_2019_P1_GAB_02_DIA_1_AMARELO_SUPERAMPLIADA.pdf\n",
            "PROVAS E GABARITOS/ENEM_2019_P1_GAB_03_DIA_1_BRANCO.pdf\n",
            "PROVAS E GABARITOS/ENEM_2019_P1_GAB_04_DIA_1_ROSA.pdf\n",
            "PROVAS E GABARITOS/ENEM_2019_P1_GAB_09_DIA_1_LARANJA_LEDOR.pdf\n",
            "PROVAS E GABARITOS/ENEM_2019_P1_GAB_10_DIA_1_VERDE_LIBRAS.pdf\n",
            "PROVAS E GABARITOS/ENEM_2019_P1_GAB_05_DIA_2_AMARELO.pdf\n",
            "PROVAS E GABARITOS/ENEM_2019_P2_GAB_05_DIA_2_AMARELO_SUPERAMPLIADA.pdf\n",
            "PROVAS E GABARITOS/ENEM_2019_P1_CAD_06_DIA_2_CINZA_AMPLIADA.pdf\n",
            "PROVAS E GABARITOS/ENEM_2019_P1_CAD_06_DIA_2_CINZA_SUPERAMPLIADA.pdf\n",
            "PROVAS E GABARITOS/ENEM_2019_P1_CAD_07_DIA_2_AZUL.pdf\n",
            "PROVAS E GABARITOS/ENEM_2019_P1_CAD_08_DIA_2_ROSA.pdf\n",
            "PROVAS E GABARITOS/ENEM_2019_P1_CAD_06_DIA_2_CINZA.pdf\n",
            "PROVAS E GABARITOS/ENEM_2019_P1_CAD_11_DIA_2_LARANJA_LEDOR.pdf\n",
            "PROVAS E GABARITOS/ENEM_2019_P1_CAD_12_DIA_2_VERDE_LIBRAS.pdf\n",
            "PROVAS E GABARITOS/ENEM_2019_P1_GAB_01_DIA_1_AZUL.pdf\n",
            "PROVAS E GABARITOS/ENEM_2019_P1_GAB_06_DIA_2_CINZA.pdf\n",
            "PROVAS E GABARITOS/ENEM_2019_P1_GAB_06_DIA_2_CINZA_AMPLIADA.pdf\n",
            "PROVAS E GABARITOS/ENEM_2019_P1_GAB_06_DIA_2_CINZA_SUPERAMPLIADA.pdf\n",
            "PROVAS E GABARITOS/ENEM_2019_P1_GAB_07_DIA_2_AZUL.pdf\n",
            "PROVAS E GABARITOS/ENEM_2019_P1_GAB_08_DIA_2_ROSA.pdf\n",
            "PROVAS E GABARITOS/ENEM_2019_P1_GAB_11_DIA_2_LARANJA_LEDOR.pdf\n",
            "PROVAS E GABARITOS/ENEM_2019_P1_GAB_12_DIA_2_VERDE_LIBRAS.pdf\n",
            "PROVAS E GABARITOS/ENEM_2019_P2_CAD_01_DIA_1_AZUL.pdf\n",
            "PROVAS E GABARITOS/ENEM_2019_P2_GAB_01_DIA_1_AZUL_AMPLIADA.pdf\n",
            "PROVAS E GABARITOS/ENEM_2019_P2_CAD_01_DIA_1_AZUL_AMPLIADA.pdf\n",
            "PROVAS E GABARITOS/ENEM_2019_P2_CAD_01_DIA_1_AZUL_SUPERAMPLIADA.pdf\n",
            "PROVAS E GABARITOS/ENEM_2019_P2_CAD_02_DIA_1_AMARELO.pdf\n",
            "PROVAS E GABARITOS/ENEM_2019_P2_CAD_03_DIA_1_BRANCO.pdf\n",
            "PROVAS E GABARITOS/ENEM_2019_P2_CAD_04_DIA_1_ROSA.pdf\n",
            "PROVAS E GABARITOS/ENEM_2019_P2_CAD_09_DIA_1_LARANJA_LEDOR.pdf\n",
            "PROVAS E GABARITOS/ENEM_2019_P2_CAD_05_DIA_2_AMARELO.pdf\n",
            "PROVAS E GABARITOS/ENEM_2019_P2_GAB_06_DIA_2_CINZA.pdf\n",
            "PROVAS E GABARITOS/ENEM_2019_P2_GAB_02_DIA_1_AMARELO.pdf\n",
            "PROVAS E GABARITOS/ENEM_2019_P2_GAB_03_DIA_1_BRANCO.pdf\n",
            "PROVAS E GABARITOS/ENEM_2019_P2_GAB_04_DIA_1_ROSA.pdf\n",
            "PROVAS E GABARITOS/ENEM_2019_P2_GAB_09_DIA_1_LARANJA_LEDOR.pdf\n",
            "PROVAS E GABARITOS/ENEM_2019_P2_GAB_05_DIA_2_AMARELO.pdf\n",
            "PROVAS E GABARITOS/ENEM_2019_P2_CAD_05_DIA_2_AMARELO_AMPLIADA.pdf\n",
            "PROVAS E GABARITOS/ENEM_2019_P2_CAD_05_DIA_2_AMARELO_SUPERAMPLIADA.pdf\n",
            "PROVAS E GABARITOS/ENEM_2019_P2_CAD_06_DIA_2_CINZA.pdf\n",
            "PROVAS E GABARITOS/ENEM_2019_P2_CAD_07_DIA_2_AZUL.pdf\n",
            "PROVAS E GABARITOS/ENEM_2019_P2_CAD_08_DIA_2_ROSA.pdf\n",
            "PROVAS E GABARITOS/ENEM_2019_P2_CAD_11_DIA_2_LARANJA_LEDOR.pdf\n",
            "PROVAS E GABARITOS/ENEM_2019_P2_GAB_01_DIA_1_AZUL.pdf\n",
            "PROVAS E GABARITOS/ENEM_2019_P2_GAB_05_DIA_2_AMARELO_AMPLIADA.pdf\n",
            "PROVAS E GABARITOS/ENEM_2019_P1_CAD_01_DIA_1_AZUL.pdf\n",
            "PROVAS E GABARITOS/ENEM_2019_P2_GAB_01_DIA_1_AZUL_SUPERAMPLIADA.pdf\n",
            "PROVAS E GABARITOS/ENEM_2019_P2_GAB_07_DIA_2_AZUL.pdf\n",
            "PROVAS E GABARITOS/ENEM_2019_P2_GAB_08_DIA_2_ROSA.pdf\n",
            "PROVAS E GABARITOS/ENEM_2019_P2_GAB_11_DIA_2_LARANJA_LEDOR.pdf\n",
            "DADOS/\n",
            "DADOS/MICRODADOS_ENEM_2019.csv\n",
            "DADOS/ITENS_PROVA_2019.csv\n",
            "DICION╡RIO/\n",
            "DICION╡RIO/Dicionário_Microdados_Enem_2019.ods\n",
            "DICION╡RIO/Dicionário_Microdados_Enem_2019.xlsx\n",
            "INPUTS/\n",
            "INPUTS/INPUT_R_MICRODADOS_ENEM_2019.R\n",
            "INPUTS/INPUT_SAS_ITENS_PROVA_2019.sas\n",
            "INPUTS/INPUT_SAS_MICRODADOS_ENEM_2019.sas\n",
            "INPUTS/INPUT_SPSS_ITENS_PROVA_2019.sps\n",
            "INPUTS/INPUT_SPSS_MICRODADOS_ENEM_2019.sps\n",
            "INPUTS/INPUT_R_ITENS_PROVA_2019.R\n"
          ]
        }
      ],
      "source": [
        "# visualizar dentro do arquivo .zip para definir qual arquivo será utilizado para a análise\n",
        "with zipfile.ZipFile(enem_files[0]) as z:\n",
        "    print(*z.namelist(), sep='\\n')"
      ]
    },
    {
      "cell_type": "code",
      "execution_count": null,
      "id": "e5310708",
      "metadata": {
        "id": "e5310708"
      },
      "outputs": [],
      "source": [
        "# criar uma função para extrair os arquivos para a análise\n",
        "def extrair(arquivo):\n",
        "    with zipfile.ZipFile(arquivo) as z:\n",
        "        dados = z.open(f'DADOS/MICRODADOS_ENEM_{arquivo[-8:-4]}.csv')\n",
        "        return dados\n",
        "        "
      ]
    },
    {
      "cell_type": "markdown",
      "id": "bcf28f49",
      "metadata": {
        "id": "bcf28f49"
      },
      "source": [
        "## **4. Que tipo de tratamento você aplicou na base de dados?**"
      ]
    },
    {
      "cell_type": "markdown",
      "id": "8d097e2b",
      "metadata": {
        "id": "8d097e2b"
      },
      "source": [
        "Primeiramente, por se tratar de datasets extensos, optou-se por importar e trabalhar apenas com as colunas necessárias para a análise para um melhor gerenciamento de memória. As colunas importadas foram:\n",
        "\n",
        "* **NU_INSCRICAO** : Número de inscrição do candidato\n",
        "* **NO_MUNICIPIO_ESC** : Nome do município em que a escola do candidato se encontra\n",
        "* **CO_ESCOLA** : Código da escola do candidato\n",
        "* **NU_NOTA_CN** : Nota da prova de Ciências da Natureza obtida pelo candidato\n",
        "* **NU_NOTA_CH** : Nota da prova de Ciências Humanas obtida pelo candidato\n",
        "* **NU_NOTA_LC** : Nota da prova de Linguagens e Códigos obtida pelo candidato\n",
        "* **NU_NOTA_MT** : Nota da prova de Matemática obtida pelo candidato\n",
        "* **NU_NOTA_REDACAO** : Nota da prova de Redação obtida pelo candidato\n",
        "\n",
        "Além disso, os dados vêm codificados no formato ISO-8859-1, sendo necessário informar ao interpretador para que a leitura seja feita corretamente.\n"
      ]
    },
    {
      "cell_type": "code",
      "execution_count": null,
      "id": "db2513b7",
      "metadata": {
        "id": "db2513b7"
      },
      "outputs": [],
      "source": [
        "# extrair para variáveis\n",
        "\n",
        "dataset2019 = extrair(enem_files[0])\n",
        "dataset2018 = extrair(enem_files[1])\n",
        "dataset2017 = extrair(enem_files[2])"
      ]
    },
    {
      "cell_type": "code",
      "execution_count": null,
      "id": "d26732e4",
      "metadata": {
        "id": "d26732e4"
      },
      "outputs": [],
      "source": [
        "# criar um dataframe com os arquivos extraídos dos microdados do enem \n",
        "df2019 = pd.read_csv(dataset2019,\n",
        "                     sep=';',\n",
        "                     encoding='ISO-8859-1',\n",
        "                     usecols=['NU_INSCRICAO',\n",
        "                              'NO_MUNICIPIO_ESC',\n",
        "                              'CO_ESCOLA',\n",
        "                              'NU_NOTA_CN',\n",
        "                              'NU_NOTA_CH',\n",
        "                              'NU_NOTA_LC',\n",
        "                              'NU_NOTA_MT',\n",
        "                              'NU_NOTA_REDACAO'])\n",
        "\n",
        "df2018 = pd.read_csv(dataset2018,\n",
        "                     sep=';',\n",
        "                     encoding='ISO-8859-1',\n",
        "                     usecols=['NU_INSCRICAO',\n",
        "                              'NO_MUNICIPIO_ESC',\n",
        "                              'CO_ESCOLA',\n",
        "                              'NU_NOTA_CN',\n",
        "                              'NU_NOTA_CH',\n",
        "                              'NU_NOTA_LC',\n",
        "                              'NU_NOTA_MT',\n",
        "                              'NU_NOTA_REDACAO'])\n",
        "\n",
        "df2017 = pd.read_csv(dataset2017,\n",
        "                     sep=';',\n",
        "                     encoding='ISO-8859-1',\n",
        "                     usecols=['NU_INSCRICAO',\n",
        "                              'NO_MUNICIPIO_ESC',\n",
        "                              'CO_ESCOLA',\n",
        "                              'NU_NOTA_CN',\n",
        "                              'NU_NOTA_CH',\n",
        "                              'NU_NOTA_LC',\n",
        "                              'NU_NOTA_MT',\n",
        "                              'NU_NOTA_REDACAO'])"
      ]
    },
    {
      "cell_type": "markdown",
      "id": "9bb60d5e",
      "metadata": {
        "id": "9bb60d5e"
      },
      "source": [
        "Criou-se uma coluna para cada dataframe para identificar a qual ano os dados percentem."
      ]
    },
    {
      "cell_type": "code",
      "execution_count": null,
      "id": "de3f2c9f",
      "metadata": {
        "id": "de3f2c9f"
      },
      "outputs": [],
      "source": [
        "# criar colunas para os anos\n",
        "df2019['ANO'] = 2019\n",
        "df2018['ANO'] = 2018\n",
        "df2017['ANO'] = 2017"
      ]
    },
    {
      "cell_type": "code",
      "execution_count": null,
      "id": "7e8cc196",
      "metadata": {
        "id": "7e8cc196",
        "outputId": "d0ae0a46-6b29-4ade-9905-10a34562a543"
      },
      "outputs": [
        {
          "data": {
            "text/html": [
              "<div>\n",
              "<style scoped>\n",
              "    .dataframe tbody tr th:only-of-type {\n",
              "        vertical-align: middle;\n",
              "    }\n",
              "\n",
              "    .dataframe tbody tr th {\n",
              "        vertical-align: top;\n",
              "    }\n",
              "\n",
              "    .dataframe thead th {\n",
              "        text-align: right;\n",
              "    }\n",
              "</style>\n",
              "<table border=\"1\" class=\"dataframe\">\n",
              "  <thead>\n",
              "    <tr style=\"text-align: right;\">\n",
              "      <th></th>\n",
              "      <th>NU_INSCRICAO</th>\n",
              "      <th>CO_ESCOLA</th>\n",
              "      <th>NO_MUNICIPIO_ESC</th>\n",
              "      <th>NU_NOTA_CN</th>\n",
              "      <th>NU_NOTA_CH</th>\n",
              "      <th>NU_NOTA_LC</th>\n",
              "      <th>NU_NOTA_MT</th>\n",
              "      <th>NU_NOTA_REDACAO</th>\n",
              "      <th>ANO</th>\n",
              "    </tr>\n",
              "  </thead>\n",
              "  <tbody>\n",
              "    <tr>\n",
              "      <th>0</th>\n",
              "      <td>170003336736</td>\n",
              "      <td>NaN</td>\n",
              "      <td>NaN</td>\n",
              "      <td>445.4</td>\n",
              "      <td>589.0</td>\n",
              "      <td>621.5</td>\n",
              "      <td>465.5</td>\n",
              "      <td>560.0</td>\n",
              "      <td>2017</td>\n",
              "    </tr>\n",
              "    <tr>\n",
              "      <th>1</th>\n",
              "      <td>170003333545</td>\n",
              "      <td>NaN</td>\n",
              "      <td>NaN</td>\n",
              "      <td>NaN</td>\n",
              "      <td>NaN</td>\n",
              "      <td>NaN</td>\n",
              "      <td>NaN</td>\n",
              "      <td>NaN</td>\n",
              "      <td>2017</td>\n",
              "    </tr>\n",
              "    <tr>\n",
              "      <th>2</th>\n",
              "      <td>170001663644</td>\n",
              "      <td>NaN</td>\n",
              "      <td>NaN</td>\n",
              "      <td>NaN</td>\n",
              "      <td>NaN</td>\n",
              "      <td>NaN</td>\n",
              "      <td>NaN</td>\n",
              "      <td>NaN</td>\n",
              "      <td>2017</td>\n",
              "    </tr>\n",
              "    <tr>\n",
              "      <th>3</th>\n",
              "      <td>170001663645</td>\n",
              "      <td>NaN</td>\n",
              "      <td>NaN</td>\n",
              "      <td>604.0</td>\n",
              "      <td>610.4</td>\n",
              "      <td>563.9</td>\n",
              "      <td>591.2</td>\n",
              "      <td>580.0</td>\n",
              "      <td>2017</td>\n",
              "    </tr>\n",
              "    <tr>\n",
              "      <th>4</th>\n",
              "      <td>170001663646</td>\n",
              "      <td>NaN</td>\n",
              "      <td>NaN</td>\n",
              "      <td>482.1</td>\n",
              "      <td>569.2</td>\n",
              "      <td>570.8</td>\n",
              "      <td>584.6</td>\n",
              "      <td>580.0</td>\n",
              "      <td>2017</td>\n",
              "    </tr>\n",
              "  </tbody>\n",
              "</table>\n",
              "</div>"
            ],
            "text/plain": [
              "   NU_INSCRICAO  CO_ESCOLA NO_MUNICIPIO_ESC  NU_NOTA_CN  NU_NOTA_CH  \\\n",
              "0  170003336736        NaN              NaN       445.4       589.0   \n",
              "1  170003333545        NaN              NaN         NaN         NaN   \n",
              "2  170001663644        NaN              NaN         NaN         NaN   \n",
              "3  170001663645        NaN              NaN       604.0       610.4   \n",
              "4  170001663646        NaN              NaN       482.1       569.2   \n",
              "\n",
              "   NU_NOTA_LC  NU_NOTA_MT  NU_NOTA_REDACAO   ANO  \n",
              "0       621.5       465.5            560.0  2017  \n",
              "1         NaN         NaN              NaN  2017  \n",
              "2         NaN         NaN              NaN  2017  \n",
              "3       563.9       591.2            580.0  2017  \n",
              "4       570.8       584.6            580.0  2017  "
            ]
          },
          "metadata": {},
          "output_type": "display_data"
        },
        {
          "data": {
            "text/html": [
              "<div>\n",
              "<style scoped>\n",
              "    .dataframe tbody tr th:only-of-type {\n",
              "        vertical-align: middle;\n",
              "    }\n",
              "\n",
              "    .dataframe tbody tr th {\n",
              "        vertical-align: top;\n",
              "    }\n",
              "\n",
              "    .dataframe thead th {\n",
              "        text-align: right;\n",
              "    }\n",
              "</style>\n",
              "<table border=\"1\" class=\"dataframe\">\n",
              "  <thead>\n",
              "    <tr style=\"text-align: right;\">\n",
              "      <th></th>\n",
              "      <th>NU_INSCRICAO</th>\n",
              "      <th>CO_ESCOLA</th>\n",
              "      <th>NO_MUNICIPIO_ESC</th>\n",
              "      <th>NU_NOTA_CN</th>\n",
              "      <th>NU_NOTA_CH</th>\n",
              "      <th>NU_NOTA_LC</th>\n",
              "      <th>NU_NOTA_MT</th>\n",
              "      <th>NU_NOTA_REDACAO</th>\n",
              "      <th>ANO</th>\n",
              "    </tr>\n",
              "  </thead>\n",
              "  <tbody>\n",
              "    <tr>\n",
              "      <th>0</th>\n",
              "      <td>180008202043</td>\n",
              "      <td>52033333.0</td>\n",
              "      <td>Goiânia</td>\n",
              "      <td>NaN</td>\n",
              "      <td>NaN</td>\n",
              "      <td>NaN</td>\n",
              "      <td>NaN</td>\n",
              "      <td>NaN</td>\n",
              "      <td>2018</td>\n",
              "    </tr>\n",
              "    <tr>\n",
              "      <th>1</th>\n",
              "      <td>180007197856</td>\n",
              "      <td>NaN</td>\n",
              "      <td>NaN</td>\n",
              "      <td>521.0</td>\n",
              "      <td>568.7</td>\n",
              "      <td>513.1</td>\n",
              "      <td>480.3</td>\n",
              "      <td>280.0</td>\n",
              "      <td>2018</td>\n",
              "    </tr>\n",
              "    <tr>\n",
              "      <th>2</th>\n",
              "      <td>180008517434</td>\n",
              "      <td>NaN</td>\n",
              "      <td>NaN</td>\n",
              "      <td>NaN</td>\n",
              "      <td>NaN</td>\n",
              "      <td>NaN</td>\n",
              "      <td>NaN</td>\n",
              "      <td>NaN</td>\n",
              "      <td>2018</td>\n",
              "    </tr>\n",
              "    <tr>\n",
              "      <th>3</th>\n",
              "      <td>180007661228</td>\n",
              "      <td>NaN</td>\n",
              "      <td>NaN</td>\n",
              "      <td>NaN</td>\n",
              "      <td>NaN</td>\n",
              "      <td>NaN</td>\n",
              "      <td>NaN</td>\n",
              "      <td>NaN</td>\n",
              "      <td>2018</td>\n",
              "    </tr>\n",
              "    <tr>\n",
              "      <th>4</th>\n",
              "      <td>180008787987</td>\n",
              "      <td>29112699.0</td>\n",
              "      <td>Jeremoabo</td>\n",
              "      <td>NaN</td>\n",
              "      <td>419.9</td>\n",
              "      <td>345.8</td>\n",
              "      <td>NaN</td>\n",
              "      <td>360.0</td>\n",
              "      <td>2018</td>\n",
              "    </tr>\n",
              "  </tbody>\n",
              "</table>\n",
              "</div>"
            ],
            "text/plain": [
              "   NU_INSCRICAO   CO_ESCOLA NO_MUNICIPIO_ESC  NU_NOTA_CN  NU_NOTA_CH  \\\n",
              "0  180008202043  52033333.0          Goiânia         NaN         NaN   \n",
              "1  180007197856         NaN              NaN       521.0       568.7   \n",
              "2  180008517434         NaN              NaN         NaN         NaN   \n",
              "3  180007661228         NaN              NaN         NaN         NaN   \n",
              "4  180008787987  29112699.0        Jeremoabo         NaN       419.9   \n",
              "\n",
              "   NU_NOTA_LC  NU_NOTA_MT  NU_NOTA_REDACAO   ANO  \n",
              "0         NaN         NaN              NaN  2018  \n",
              "1       513.1       480.3            280.0  2018  \n",
              "2         NaN         NaN              NaN  2018  \n",
              "3         NaN         NaN              NaN  2018  \n",
              "4       345.8         NaN            360.0  2018  "
            ]
          },
          "metadata": {},
          "output_type": "display_data"
        },
        {
          "data": {
            "text/html": [
              "<div>\n",
              "<style scoped>\n",
              "    .dataframe tbody tr th:only-of-type {\n",
              "        vertical-align: middle;\n",
              "    }\n",
              "\n",
              "    .dataframe tbody tr th {\n",
              "        vertical-align: top;\n",
              "    }\n",
              "\n",
              "    .dataframe thead th {\n",
              "        text-align: right;\n",
              "    }\n",
              "</style>\n",
              "<table border=\"1\" class=\"dataframe\">\n",
              "  <thead>\n",
              "    <tr style=\"text-align: right;\">\n",
              "      <th></th>\n",
              "      <th>NU_INSCRICAO</th>\n",
              "      <th>CO_ESCOLA</th>\n",
              "      <th>NO_MUNICIPIO_ESC</th>\n",
              "      <th>NU_NOTA_CN</th>\n",
              "      <th>NU_NOTA_CH</th>\n",
              "      <th>NU_NOTA_LC</th>\n",
              "      <th>NU_NOTA_MT</th>\n",
              "      <th>NU_NOTA_REDACAO</th>\n",
              "      <th>ANO</th>\n",
              "    </tr>\n",
              "  </thead>\n",
              "  <tbody>\n",
              "    <tr>\n",
              "      <th>0</th>\n",
              "      <td>190001595656</td>\n",
              "      <td>NaN</td>\n",
              "      <td>NaN</td>\n",
              "      <td>NaN</td>\n",
              "      <td>NaN</td>\n",
              "      <td>NaN</td>\n",
              "      <td>NaN</td>\n",
              "      <td>NaN</td>\n",
              "      <td>2019</td>\n",
              "    </tr>\n",
              "    <tr>\n",
              "      <th>1</th>\n",
              "      <td>190001421546</td>\n",
              "      <td>NaN</td>\n",
              "      <td>NaN</td>\n",
              "      <td>NaN</td>\n",
              "      <td>NaN</td>\n",
              "      <td>NaN</td>\n",
              "      <td>NaN</td>\n",
              "      <td>NaN</td>\n",
              "      <td>2019</td>\n",
              "    </tr>\n",
              "    <tr>\n",
              "      <th>2</th>\n",
              "      <td>190001133210</td>\n",
              "      <td>NaN</td>\n",
              "      <td>NaN</td>\n",
              "      <td>NaN</td>\n",
              "      <td>NaN</td>\n",
              "      <td>NaN</td>\n",
              "      <td>NaN</td>\n",
              "      <td>NaN</td>\n",
              "      <td>2019</td>\n",
              "    </tr>\n",
              "    <tr>\n",
              "      <th>3</th>\n",
              "      <td>190001199383</td>\n",
              "      <td>NaN</td>\n",
              "      <td>NaN</td>\n",
              "      <td>483.8</td>\n",
              "      <td>503.6</td>\n",
              "      <td>537.3</td>\n",
              "      <td>392.0</td>\n",
              "      <td>460.0</td>\n",
              "      <td>2019</td>\n",
              "    </tr>\n",
              "    <tr>\n",
              "      <th>4</th>\n",
              "      <td>190001237802</td>\n",
              "      <td>NaN</td>\n",
              "      <td>NaN</td>\n",
              "      <td>513.6</td>\n",
              "      <td>575.5</td>\n",
              "      <td>570.7</td>\n",
              "      <td>677.0</td>\n",
              "      <td>860.0</td>\n",
              "      <td>2019</td>\n",
              "    </tr>\n",
              "  </tbody>\n",
              "</table>\n",
              "</div>"
            ],
            "text/plain": [
              "   NU_INSCRICAO  CO_ESCOLA NO_MUNICIPIO_ESC  NU_NOTA_CN  NU_NOTA_CH  \\\n",
              "0  190001595656        NaN              NaN         NaN         NaN   \n",
              "1  190001421546        NaN              NaN         NaN         NaN   \n",
              "2  190001133210        NaN              NaN         NaN         NaN   \n",
              "3  190001199383        NaN              NaN       483.8       503.6   \n",
              "4  190001237802        NaN              NaN       513.6       575.5   \n",
              "\n",
              "   NU_NOTA_LC  NU_NOTA_MT  NU_NOTA_REDACAO   ANO  \n",
              "0         NaN         NaN              NaN  2019  \n",
              "1         NaN         NaN              NaN  2019  \n",
              "2         NaN         NaN              NaN  2019  \n",
              "3       537.3       392.0            460.0  2019  \n",
              "4       570.7       677.0            860.0  2019  "
            ]
          },
          "metadata": {},
          "output_type": "display_data"
        }
      ],
      "source": [
        "# visualizar as 5 primeiras linhas dataframes\n",
        "display(df2017.head(), df2018.head(), df2019.head())"
      ]
    },
    {
      "cell_type": "markdown",
      "id": "b5f720d1",
      "metadata": {
        "id": "b5f720d1"
      },
      "source": [
        "Os dataframes de cada ano foram concatenados, para que fosse possível trabalhar apenas com um único dataframe com todos os dados."
      ]
    },
    {
      "cell_type": "code",
      "execution_count": null,
      "id": "f7bf3a32",
      "metadata": {
        "id": "f7bf3a32"
      },
      "outputs": [],
      "source": [
        "# concatenar dataframes\n",
        "df = pd.concat([df2017, df2018, df2019], axis=0)\n",
        "del df2017, df2018, df2019\n"
      ]
    },
    {
      "cell_type": "code",
      "execution_count": null,
      "id": "55c6bbc9",
      "metadata": {
        "id": "55c6bbc9",
        "outputId": "a263de41-5ce9-48ed-98a4-db12b51657fc"
      },
      "outputs": [
        {
          "data": {
            "text/html": [
              "<div>\n",
              "<style scoped>\n",
              "    .dataframe tbody tr th:only-of-type {\n",
              "        vertical-align: middle;\n",
              "    }\n",
              "\n",
              "    .dataframe tbody tr th {\n",
              "        vertical-align: top;\n",
              "    }\n",
              "\n",
              "    .dataframe thead th {\n",
              "        text-align: right;\n",
              "    }\n",
              "</style>\n",
              "<table border=\"1\" class=\"dataframe\">\n",
              "  <thead>\n",
              "    <tr style=\"text-align: right;\">\n",
              "      <th></th>\n",
              "      <th>NU_INSCRICAO</th>\n",
              "      <th>CO_ESCOLA</th>\n",
              "      <th>NO_MUNICIPIO_ESC</th>\n",
              "      <th>NU_NOTA_CN</th>\n",
              "      <th>NU_NOTA_CH</th>\n",
              "      <th>NU_NOTA_LC</th>\n",
              "      <th>NU_NOTA_MT</th>\n",
              "      <th>NU_NOTA_REDACAO</th>\n",
              "      <th>ANO</th>\n",
              "    </tr>\n",
              "  </thead>\n",
              "  <tbody>\n",
              "    <tr>\n",
              "      <th>0</th>\n",
              "      <td>170003336736</td>\n",
              "      <td>NaN</td>\n",
              "      <td>NaN</td>\n",
              "      <td>445.4</td>\n",
              "      <td>589.0</td>\n",
              "      <td>621.5</td>\n",
              "      <td>465.5</td>\n",
              "      <td>560.0</td>\n",
              "      <td>2017</td>\n",
              "    </tr>\n",
              "    <tr>\n",
              "      <th>1</th>\n",
              "      <td>170003333545</td>\n",
              "      <td>NaN</td>\n",
              "      <td>NaN</td>\n",
              "      <td>NaN</td>\n",
              "      <td>NaN</td>\n",
              "      <td>NaN</td>\n",
              "      <td>NaN</td>\n",
              "      <td>NaN</td>\n",
              "      <td>2017</td>\n",
              "    </tr>\n",
              "    <tr>\n",
              "      <th>2</th>\n",
              "      <td>170001663644</td>\n",
              "      <td>NaN</td>\n",
              "      <td>NaN</td>\n",
              "      <td>NaN</td>\n",
              "      <td>NaN</td>\n",
              "      <td>NaN</td>\n",
              "      <td>NaN</td>\n",
              "      <td>NaN</td>\n",
              "      <td>2017</td>\n",
              "    </tr>\n",
              "    <tr>\n",
              "      <th>3</th>\n",
              "      <td>170001663645</td>\n",
              "      <td>NaN</td>\n",
              "      <td>NaN</td>\n",
              "      <td>604.0</td>\n",
              "      <td>610.4</td>\n",
              "      <td>563.9</td>\n",
              "      <td>591.2</td>\n",
              "      <td>580.0</td>\n",
              "      <td>2017</td>\n",
              "    </tr>\n",
              "    <tr>\n",
              "      <th>4</th>\n",
              "      <td>170001663646</td>\n",
              "      <td>NaN</td>\n",
              "      <td>NaN</td>\n",
              "      <td>482.1</td>\n",
              "      <td>569.2</td>\n",
              "      <td>570.8</td>\n",
              "      <td>584.6</td>\n",
              "      <td>580.0</td>\n",
              "      <td>2017</td>\n",
              "    </tr>\n",
              "  </tbody>\n",
              "</table>\n",
              "</div>"
            ],
            "text/plain": [
              "   NU_INSCRICAO  CO_ESCOLA NO_MUNICIPIO_ESC  NU_NOTA_CN  NU_NOTA_CH  \\\n",
              "0  170003336736        NaN              NaN       445.4       589.0   \n",
              "1  170003333545        NaN              NaN         NaN         NaN   \n",
              "2  170001663644        NaN              NaN         NaN         NaN   \n",
              "3  170001663645        NaN              NaN       604.0       610.4   \n",
              "4  170001663646        NaN              NaN       482.1       569.2   \n",
              "\n",
              "   NU_NOTA_LC  NU_NOTA_MT  NU_NOTA_REDACAO   ANO  \n",
              "0       621.5       465.5            560.0  2017  \n",
              "1         NaN         NaN              NaN  2017  \n",
              "2         NaN         NaN              NaN  2017  \n",
              "3       563.9       591.2            580.0  2017  \n",
              "4       570.8       584.6            580.0  2017  "
            ]
          },
          "execution_count": 19,
          "metadata": {},
          "output_type": "execute_result"
        }
      ],
      "source": [
        "df.head()"
      ]
    },
    {
      "cell_type": "markdown",
      "id": "98f67311",
      "metadata": {
        "id": "98f67311"
      },
      "source": [
        "Para melhor visualização as colunas foram renomeadas."
      ]
    },
    {
      "cell_type": "code",
      "execution_count": null,
      "id": "c33a5300",
      "metadata": {
        "id": "c33a5300",
        "outputId": "03210998-13a3-40a6-f5e2-04ea67751288"
      },
      "outputs": [
        {
          "data": {
            "text/html": [
              "<div>\n",
              "<style scoped>\n",
              "    .dataframe tbody tr th:only-of-type {\n",
              "        vertical-align: middle;\n",
              "    }\n",
              "\n",
              "    .dataframe tbody tr th {\n",
              "        vertical-align: top;\n",
              "    }\n",
              "\n",
              "    .dataframe thead th {\n",
              "        text-align: right;\n",
              "    }\n",
              "</style>\n",
              "<table border=\"1\" class=\"dataframe\">\n",
              "  <thead>\n",
              "    <tr style=\"text-align: right;\">\n",
              "      <th></th>\n",
              "      <th>INSCRICAO</th>\n",
              "      <th>ESCOLA</th>\n",
              "      <th>MUNICIPIO</th>\n",
              "      <th>CIEN_NAT</th>\n",
              "      <th>CIEN_HUM</th>\n",
              "      <th>LING_COD</th>\n",
              "      <th>MATEMATICA</th>\n",
              "      <th>REDACAO</th>\n",
              "      <th>ANO</th>\n",
              "    </tr>\n",
              "  </thead>\n",
              "  <tbody>\n",
              "    <tr>\n",
              "      <th>0</th>\n",
              "      <td>170003336736</td>\n",
              "      <td>NaN</td>\n",
              "      <td>NaN</td>\n",
              "      <td>445.4</td>\n",
              "      <td>589.0</td>\n",
              "      <td>621.5</td>\n",
              "      <td>465.5</td>\n",
              "      <td>560.0</td>\n",
              "      <td>2017</td>\n",
              "    </tr>\n",
              "    <tr>\n",
              "      <th>1</th>\n",
              "      <td>170003333545</td>\n",
              "      <td>NaN</td>\n",
              "      <td>NaN</td>\n",
              "      <td>NaN</td>\n",
              "      <td>NaN</td>\n",
              "      <td>NaN</td>\n",
              "      <td>NaN</td>\n",
              "      <td>NaN</td>\n",
              "      <td>2017</td>\n",
              "    </tr>\n",
              "    <tr>\n",
              "      <th>2</th>\n",
              "      <td>170001663644</td>\n",
              "      <td>NaN</td>\n",
              "      <td>NaN</td>\n",
              "      <td>NaN</td>\n",
              "      <td>NaN</td>\n",
              "      <td>NaN</td>\n",
              "      <td>NaN</td>\n",
              "      <td>NaN</td>\n",
              "      <td>2017</td>\n",
              "    </tr>\n",
              "    <tr>\n",
              "      <th>3</th>\n",
              "      <td>170001663645</td>\n",
              "      <td>NaN</td>\n",
              "      <td>NaN</td>\n",
              "      <td>604.0</td>\n",
              "      <td>610.4</td>\n",
              "      <td>563.9</td>\n",
              "      <td>591.2</td>\n",
              "      <td>580.0</td>\n",
              "      <td>2017</td>\n",
              "    </tr>\n",
              "    <tr>\n",
              "      <th>4</th>\n",
              "      <td>170001663646</td>\n",
              "      <td>NaN</td>\n",
              "      <td>NaN</td>\n",
              "      <td>482.1</td>\n",
              "      <td>569.2</td>\n",
              "      <td>570.8</td>\n",
              "      <td>584.6</td>\n",
              "      <td>580.0</td>\n",
              "      <td>2017</td>\n",
              "    </tr>\n",
              "  </tbody>\n",
              "</table>\n",
              "</div>"
            ],
            "text/plain": [
              "      INSCRICAO  ESCOLA MUNICIPIO  CIEN_NAT  CIEN_HUM  LING_COD  MATEMATICA  \\\n",
              "0  170003336736     NaN       NaN     445.4     589.0     621.5       465.5   \n",
              "1  170003333545     NaN       NaN       NaN       NaN       NaN         NaN   \n",
              "2  170001663644     NaN       NaN       NaN       NaN       NaN         NaN   \n",
              "3  170001663645     NaN       NaN     604.0     610.4     563.9       591.2   \n",
              "4  170001663646     NaN       NaN     482.1     569.2     570.8       584.6   \n",
              "\n",
              "   REDACAO   ANO  \n",
              "0    560.0  2017  \n",
              "1      NaN  2017  \n",
              "2      NaN  2017  \n",
              "3    580.0  2017  \n",
              "4    580.0  2017  "
            ]
          },
          "execution_count": 20,
          "metadata": {},
          "output_type": "execute_result"
        }
      ],
      "source": [
        "# renomear colunas\n",
        "df.rename(columns={'NU_INSCRICAO':'INSCRICAO',\n",
        "                   'CO_ESCOLA':'ESCOLA',\n",
        "                   'NO_MUNICIPIO_ESC': 'MUNICIPIO',\n",
        "                   'NU_NOTA_CN':'CIEN_NAT',\n",
        "                   'NU_NOTA_CH':'CIEN_HUM',\n",
        "                   'NU_NOTA_LC':'LING_COD',\n",
        "                   'NU_NOTA_MT':'MATEMATICA',\n",
        "                   'NU_NOTA_REDACAO':'REDACAO'\n",
        "                  }, inplace=True)\n",
        "\n",
        "# visualizar colunas renomeadas\n",
        "df.head()"
      ]
    },
    {
      "cell_type": "markdown",
      "id": "8e5cc773",
      "metadata": {
        "id": "8e5cc773"
      },
      "source": [
        "Criou-se uma coluna com a média da nota de todas as provas por candidato para posterior ranqueamento.\n",
        "\n",
        "Os dados da coluna **MUNICIPIO** foram convertidas em caixa alta para posterior vinculação ao outro dataset."
      ]
    },
    {
      "cell_type": "code",
      "execution_count": null,
      "id": "2840f522",
      "metadata": {
        "scrolled": false,
        "id": "2840f522",
        "outputId": "219962c8-d595-4e81-8650-9653e6c0ef7b"
      },
      "outputs": [
        {
          "data": {
            "text/html": [
              "<div>\n",
              "<style scoped>\n",
              "    .dataframe tbody tr th:only-of-type {\n",
              "        vertical-align: middle;\n",
              "    }\n",
              "\n",
              "    .dataframe tbody tr th {\n",
              "        vertical-align: top;\n",
              "    }\n",
              "\n",
              "    .dataframe thead th {\n",
              "        text-align: right;\n",
              "    }\n",
              "</style>\n",
              "<table border=\"1\" class=\"dataframe\">\n",
              "  <thead>\n",
              "    <tr style=\"text-align: right;\">\n",
              "      <th></th>\n",
              "      <th>INSCRICAO</th>\n",
              "      <th>ESCOLA</th>\n",
              "      <th>MUNICIPIO</th>\n",
              "      <th>CIEN_NAT</th>\n",
              "      <th>CIEN_HUM</th>\n",
              "      <th>LING_COD</th>\n",
              "      <th>MATEMATICA</th>\n",
              "      <th>REDACAO</th>\n",
              "      <th>ANO</th>\n",
              "      <th>MEDIA</th>\n",
              "    </tr>\n",
              "  </thead>\n",
              "  <tbody>\n",
              "    <tr>\n",
              "      <th>0</th>\n",
              "      <td>170003336736</td>\n",
              "      <td>NaN</td>\n",
              "      <td>NaN</td>\n",
              "      <td>445.4</td>\n",
              "      <td>589.0</td>\n",
              "      <td>621.5</td>\n",
              "      <td>465.5</td>\n",
              "      <td>560.0</td>\n",
              "      <td>2017</td>\n",
              "      <td>536.28</td>\n",
              "    </tr>\n",
              "    <tr>\n",
              "      <th>1</th>\n",
              "      <td>170003333545</td>\n",
              "      <td>NaN</td>\n",
              "      <td>NaN</td>\n",
              "      <td>NaN</td>\n",
              "      <td>NaN</td>\n",
              "      <td>NaN</td>\n",
              "      <td>NaN</td>\n",
              "      <td>NaN</td>\n",
              "      <td>2017</td>\n",
              "      <td>NaN</td>\n",
              "    </tr>\n",
              "    <tr>\n",
              "      <th>2</th>\n",
              "      <td>170001663644</td>\n",
              "      <td>NaN</td>\n",
              "      <td>NaN</td>\n",
              "      <td>NaN</td>\n",
              "      <td>NaN</td>\n",
              "      <td>NaN</td>\n",
              "      <td>NaN</td>\n",
              "      <td>NaN</td>\n",
              "      <td>2017</td>\n",
              "      <td>NaN</td>\n",
              "    </tr>\n",
              "    <tr>\n",
              "      <th>3</th>\n",
              "      <td>170001663645</td>\n",
              "      <td>NaN</td>\n",
              "      <td>NaN</td>\n",
              "      <td>604.0</td>\n",
              "      <td>610.4</td>\n",
              "      <td>563.9</td>\n",
              "      <td>591.2</td>\n",
              "      <td>580.0</td>\n",
              "      <td>2017</td>\n",
              "      <td>589.90</td>\n",
              "    </tr>\n",
              "    <tr>\n",
              "      <th>4</th>\n",
              "      <td>170001663646</td>\n",
              "      <td>NaN</td>\n",
              "      <td>NaN</td>\n",
              "      <td>482.1</td>\n",
              "      <td>569.2</td>\n",
              "      <td>570.8</td>\n",
              "      <td>584.6</td>\n",
              "      <td>580.0</td>\n",
              "      <td>2017</td>\n",
              "      <td>557.34</td>\n",
              "    </tr>\n",
              "  </tbody>\n",
              "</table>\n",
              "</div>"
            ],
            "text/plain": [
              "      INSCRICAO  ESCOLA MUNICIPIO  CIEN_NAT  CIEN_HUM  LING_COD  MATEMATICA  \\\n",
              "0  170003336736     NaN       NaN     445.4     589.0     621.5       465.5   \n",
              "1  170003333545     NaN       NaN       NaN       NaN       NaN         NaN   \n",
              "2  170001663644     NaN       NaN       NaN       NaN       NaN         NaN   \n",
              "3  170001663645     NaN       NaN     604.0     610.4     563.9       591.2   \n",
              "4  170001663646     NaN       NaN     482.1     569.2     570.8       584.6   \n",
              "\n",
              "   REDACAO   ANO   MEDIA  \n",
              "0    560.0  2017  536.28  \n",
              "1      NaN  2017     NaN  \n",
              "2      NaN  2017     NaN  \n",
              "3    580.0  2017  589.90  \n",
              "4    580.0  2017  557.34  "
            ]
          },
          "execution_count": 21,
          "metadata": {},
          "output_type": "execute_result"
        }
      ],
      "source": [
        "# criar coluna com a média das provas\n",
        "df['MEDIA'] = df[['CIEN_NAT', 'CIEN_HUM', 'LING_COD', 'MATEMATICA', 'REDACAO']].mean(axis=1)\n",
        "\n",
        "# converter dados para caixa alta\n",
        "df['MUNICIPIO'] = df['MUNICIPIO'].str.upper()\n",
        "\n",
        "# visualizar coluna criada\n",
        "df.head()"
      ]
    },
    {
      "cell_type": "markdown",
      "id": "1ae8569c",
      "metadata": {
        "id": "1ae8569c"
      },
      "source": [
        "## **5. Qual a proporção de missing nas bases e o que você fará com esses casos? Na sua opinião, quais os mais relevantes?**"
      ]
    },
    {
      "cell_type": "code",
      "execution_count": null,
      "id": "86899c2c",
      "metadata": {
        "scrolled": false,
        "id": "86899c2c",
        "outputId": "b5759a9e-ca5e-4dac-ac50-ef96c0661ed8"
      },
      "outputs": [
        {
          "data": {
            "text/plain": [
              "MUNICIPIO     0.7473\n",
              "ESCOLA        0.7473\n",
              "CIEN_NAT      0.3049\n",
              "MATEMATICA    0.3049\n",
              "REDACAO       0.2634\n",
              "CIEN_HUM      0.2634\n",
              "LING_COD      0.2634\n",
              "MEDIA         0.2616\n",
              "INSCRICAO     0.0000\n",
              "ANO           0.0000\n",
              "dtype: float64"
            ]
          },
          "execution_count": 22,
          "metadata": {},
          "output_type": "execute_result"
        }
      ],
      "source": [
        "# retornar missing values\n",
        "round((df.isnull().sum() / df.shape[0]).sort_values(ascending = False), 4)"
      ]
    },
    {
      "cell_type": "markdown",
      "id": "ad8ce853",
      "metadata": {
        "id": "ad8ce853"
      },
      "source": [
        "Em escala percentual a proporção de valores faltantes foram:\n",
        "\n",
        "* **MUNICIPIO**  =  74.73 % \n",
        "* **ESCOLA**     =  74.73 %\n",
        "* **CIEN_NAT**   =  30.49 %\n",
        "* **MATEMATICA** =  30.49 %\n",
        "* **REDACAO**    =  26.34 %\n",
        "* **CIEN_HUM**   =  26.34 %\n",
        "* **LING_COD**   =  26.34 %\n",
        "* **MEDIA**      =  26.16 %\n",
        "\n",
        "Neste caso, como são dados faltantes difíceis de estimar com precisão, os valores são eliminados.\n",
        "\n",
        "Como nesta análise são necessários os dados de escola e município para indicação de possíveis escolas em municípios com nível baixo ou muito baixo de IDHM, esses casos acabam sendo os mais relevantes. Sem essas informações é possível que algumas escolas com maior necessidade não entrem na seleção por não apresentarem dados."
      ]
    },
    {
      "cell_type": "markdown",
      "id": "3de06fa9",
      "metadata": {
        "id": "3de06fa9"
      },
      "source": [
        "## **6. Qual o número de inscritos por ano? Existe alguma tendência a ser observada nos dados?**"
      ]
    },
    {
      "cell_type": "code",
      "execution_count": null,
      "id": "03e8a8ff",
      "metadata": {
        "id": "03e8a8ff",
        "outputId": "02db8f2e-f3e8-4f89-fbdc-81e1f4f3047e"
      },
      "outputs": [
        {
          "data": {
            "image/png": "[encoded data removed]",
            "text/plain": [
              "<Figure size 720x576 with 1 Axes>"
            ]
          },
          "metadata": {},
          "output_type": "display_data"
        }
      ],
      "source": [
        "# agrupar dados por número de inscritos por ano\n",
        "insc_ano = df.groupby('ANO', as_index=False)['INSCRICAO'].count()\n",
        "\n",
        "# definir tema e dimensão\n",
        "sns.set_theme(style=\"whitegrid\")\n",
        "fig, ax = plt.subplots(figsize = (10, 8))\n",
        "\n",
        "# remover grades\n",
        "ax.grid(visible=False, axis='both')\n",
        "\n",
        "# visualizar ticks\n",
        "ax.yaxis.set_ticks_position('left')\n",
        "ax.xaxis.set_ticks_position('bottom')\n",
        "\n",
        "# definir limite do eixo x\n",
        "# ax.set_xlim([0, max(df['room_type'].value_counts())-2000])\n",
        "ax.set_ylim(0, 7400000)\n",
        "\n",
        "# atribuir dados ao plot\n",
        "sns.barplot(x=\"ANO\", y=\"INSCRICAO\", palette=\"Blues_d\", data=insc_ano);\n",
        "\n",
        "# # configurar labels\n",
        "ax.set_title(\"Número de inscritos por ano\")\n",
        "ax.set_xlabel(\"Ano\")\n",
        "ax.set_ylabel(\"Número de inscritos\")\n",
        "\n",
        "ax.text(-0.20, insc_ano['INSCRICAO'][0]+100000, insc_ano['INSCRICAO'][0], fontweight='bold', fontsize=20, color='#174A7E')\n",
        "ax.text(0.80, insc_ano['INSCRICAO'][1]+100000, insc_ano['INSCRICAO'][1], fontweight='bold', fontsize=20, color='#174A7E')\n",
        "ax.text(1.8, insc_ano['INSCRICAO'][2]+100000, insc_ano['INSCRICAO'][2], fontweight='bold', fontsize=20, color='#174A7E')\n",
        "\n",
        "\n",
        "fig.tight_layout()\n"
      ]
    },
    {
      "cell_type": "markdown",
      "id": "2a0722fb",
      "metadata": {
        "id": "2a0722fb"
      },
      "source": [
        "Podemos observar no gráfico acima, a quantidade de inscritos por ano.\n",
        "\n",
        "O maior número de inscritos foi no ano de 2017 com **6.731.341**, seguido do ano de 2018 com **5.513.747** e por último o ano de 2019 com **5.095.270**."
      ]
    },
    {
      "cell_type": "code",
      "execution_count": null,
      "id": "c4d0dc52",
      "metadata": {
        "id": "c4d0dc52",
        "outputId": "b3b4e89a-cefc-400b-ae55-363ffd6306dd"
      },
      "outputs": [
        {
          "name": "stdout",
          "output_type": "stream",
          "text": [
            "Decréscimo de 2017 para 2018 de: 18.09%\n",
            "Decréscimo de 2018 para 2019 de: 7.59%\n",
            "Decréscimo de 2017 para 2019 de: 24.31%\n"
          ]
        }
      ],
      "source": [
        "ano17_18 = round(100 - ((insc_ano['INSCRICAO'][1] * 100)/ insc_ano['INSCRICAO'][0]), 2)\n",
        "ano18_19 = round(100 - ((insc_ano['INSCRICAO'][2] * 100)/ insc_ano['INSCRICAO'][1]), 2)\n",
        "ano17_19 = round(100 - ((insc_ano['INSCRICAO'][2] * 100)/ insc_ano['INSCRICAO'][0]), 2)\n",
        "\n",
        "print(f'Decréscimo de 2017 para 2018 de: {ano17_18}%')\n",
        "print(f'Decréscimo de 2018 para 2019 de: {ano18_19}%')\n",
        "print(f'Decréscimo de 2017 para 2019 de: {ano17_19}%')"
      ]
    },
    {
      "cell_type": "markdown",
      "id": "6c7b2af5",
      "metadata": {
        "id": "6c7b2af5"
      },
      "source": [
        "Podemos notar que o número de inscritos vem caindo ano após ano.\n",
        "\n",
        "Sendo um decréscimo de de 2017 para 2018 de **18.09%**, de 2018 para 2019 de **7.59%** e um decréscimo total de 2017 para 2019 de **24.31%**."
      ]
    },
    {
      "cell_type": "markdown",
      "id": "08f60754",
      "metadata": {
        "id": "08f60754"
      },
      "source": [
        "**Após verificar o número de inscritos, agora podemos remover os valores faltantes do dataset.**"
      ]
    },
    {
      "cell_type": "code",
      "execution_count": null,
      "id": "8d55ea75",
      "metadata": {
        "id": "8d55ea75",
        "outputId": "928bf0d5-36ea-4751-f3be-2c83fd140b3c"
      },
      "outputs": [
        {
          "data": {
            "text/plain": [
              "INSCRICAO     0.0\n",
              "ESCOLA        0.0\n",
              "MUNICIPIO     0.0\n",
              "CIEN_NAT      0.0\n",
              "CIEN_HUM      0.0\n",
              "LING_COD      0.0\n",
              "MATEMATICA    0.0\n",
              "REDACAO       0.0\n",
              "ANO           0.0\n",
              "MEDIA         0.0\n",
              "dtype: float64"
            ]
          },
          "execution_count": 26,
          "metadata": {},
          "output_type": "execute_result"
        }
      ],
      "source": [
        "# eliminar valores faltantes\n",
        "df.dropna(inplace=True)\n",
        "\n",
        "# verificar se foram eliminados\n",
        "(df.isnull().sum() / df.shape[0]).sort_values(ascending = False)"
      ]
    },
    {
      "cell_type": "markdown",
      "id": "e6986516",
      "metadata": {
        "id": "e6986516"
      },
      "source": [
        "Vamos aproveitar e alterar os formatos dos dados para melhor gerenciamento de memória."
      ]
    },
    {
      "cell_type": "markdown",
      "id": "3a555708",
      "metadata": {
        "id": "3a555708"
      },
      "source": [
        "## **7. Quais as notas médias por ano de realização da prova?**"
      ]
    },
    {
      "cell_type": "code",
      "execution_count": null,
      "id": "57033fbb",
      "metadata": {
        "id": "57033fbb"
      },
      "outputs": [],
      "source": [
        "# criar função para plotar gráfico de barras com as médias\n",
        "def nota_media(coluna, nome_materia):\n",
        "    # agrupar dados por média de provas\n",
        "    nota_agrup = round(df.groupby('ANO', as_index=False)[coluna].mean(), 2)\n",
        "\n",
        "    # definir tema e dimensão\n",
        "    sns.set_theme(style=\"whitegrid\")\n",
        "    fig, ax = plt.subplots(figsize = (10, 8))\n",
        "\n",
        "    # remover grades\n",
        "    ax.grid(visible=False, axis='both')\n",
        "\n",
        "    # visualizar ticks\n",
        "    ax.yaxis.set_ticks_position('left')\n",
        "    ax.xaxis.set_ticks_position('bottom')\n",
        "\n",
        "    # definir limite do eixo x\n",
        "    # ax.set_xlim([0, max(df['room_type'].value_counts())-2000])\n",
        "    ax.set_ylim(0, 620)\n",
        "\n",
        "    # atribuir dados ao plot\n",
        "    sns.barplot(x=\"ANO\", y=coluna, palette=\"Blues_d\", data=nota_agrup);\n",
        "\n",
        "    # # configurar labels\n",
        "    ax.set_title(f\"Nota média da prova {nome_materia} por ano\")\n",
        "    ax.set_xlabel(\"Ano\")\n",
        "    ax.set_ylabel(\"Nota Média\")\n",
        "\n",
        "    ax.text(-0.18, nota_agrup[coluna][0]+10, nota_agrup[coluna][0], fontweight='bold', fontsize=20, color='#174A7E')\n",
        "    ax.text(0.85, nota_agrup[coluna][1]+10, nota_agrup[coluna][1], fontweight='bold', fontsize=20, color='#174A7E')\n",
        "    ax.text(1.85, nota_agrup[coluna][2]+10, nota_agrup[coluna][2], fontweight='bold', fontsize=20, color='#174A7E')\n",
        "\n",
        "\n",
        "    fig.tight_layout()"
      ]
    },
    {
      "cell_type": "markdown",
      "id": "8102a1c7",
      "metadata": {
        "id": "8102a1c7"
      },
      "source": [
        "### **a. Nota da prova de Ciências da Natureza**"
      ]
    },
    {
      "cell_type": "code",
      "execution_count": null,
      "id": "009c9d9d",
      "metadata": {
        "scrolled": false,
        "id": "009c9d9d",
        "outputId": "daec309a-cd1a-4598-c594-9a2040f857fe"
      },
      "outputs": [
        {
          "data": {
            "image/png": "[encoded data removed]",
            "text/plain": [
              "<Figure size 720x576 with 1 Axes>"
            ]
          },
          "metadata": {},
          "output_type": "display_data"
        }
      ],
      "source": [
        "nota_media('CIEN_NAT', 'Ciências da Natureza')"
      ]
    },
    {
      "cell_type": "markdown",
      "id": "b3a8744a",
      "metadata": {
        "id": "b3a8744a"
      },
      "source": [
        "As notas médias da prova de Ciência da Natureza foram **506.26**, **492.80** e **473.70** para 2017, 2018 e 2019, respectivamente."
      ]
    },
    {
      "cell_type": "markdown",
      "id": "072d83f9",
      "metadata": {
        "id": "072d83f9"
      },
      "source": [
        "### **b. Nota da prova de Ciências Humanas**"
      ]
    },
    {
      "cell_type": "code",
      "execution_count": null,
      "id": "ca0c3bdc",
      "metadata": {
        "id": "ca0c3bdc",
        "outputId": "232a0bd7-5c96-4538-ea42-04c1d8a1bd67"
      },
      "outputs": [
        {
          "data": {
            "image/png": "[encoded data removed]",
            "text/plain": [
              "<Figure size 720x576 with 1 Axes>"
            ]
          },
          "metadata": {},
          "output_type": "display_data"
        }
      ],
      "source": [
        "nota_media('CIEN_HUM', 'Ciências Humanas')"
      ]
    },
    {
      "cell_type": "markdown",
      "id": "2c6f7cc5",
      "metadata": {
        "id": "2c6f7cc5"
      },
      "source": [
        "As notas médias da prova de Ciência da Natureza foram **516.13**, **565.40** e **505.78** para 2017, 2018 e 2019, respectivamente."
      ]
    },
    {
      "cell_type": "markdown",
      "id": "ae7b646a",
      "metadata": {
        "id": "ae7b646a"
      },
      "source": [
        "### **c. Nota da prova de Linguagens e Códigos**"
      ]
    },
    {
      "cell_type": "code",
      "execution_count": null,
      "id": "06eccbb1",
      "metadata": {
        "id": "06eccbb1",
        "outputId": "cced1007-db1b-4c0a-cdd5-25f36df6f9e4"
      },
      "outputs": [
        {
          "data": {
            "image/png": "[encoded data removed]",
            "text/plain": [
              "<Figure size 720x576 with 1 Axes>"
            ]
          },
          "metadata": {},
          "output_type": "display_data"
        }
      ],
      "source": [
        "nota_media('LING_COD', 'Linguagens e Códigos')"
      ]
    },
    {
      "cell_type": "markdown",
      "id": "374cc5ef",
      "metadata": {
        "id": "374cc5ef"
      },
      "source": [
        "As notas médias da prova de Ciência da Natureza foram **505.72**, **524.65** e **518.79** para 2017, 2018 e 2019, respectivamente."
      ]
    },
    {
      "cell_type": "markdown",
      "id": "6f3ca2cd",
      "metadata": {
        "id": "6f3ca2cd"
      },
      "source": [
        "### **d. Nota da prova de Matemática**"
      ]
    },
    {
      "cell_type": "code",
      "execution_count": null,
      "id": "68953775",
      "metadata": {
        "scrolled": false,
        "id": "68953775",
        "outputId": "4d3a8000-088f-428f-d5b7-65b14419c970"
      },
      "outputs": [
        {
          "data": {
            "image/png": "[encoded data removed]",
            "text/plain": [
              "<Figure size 720x576 with 1 Axes>"
            ]
          },
          "metadata": {},
          "output_type": "display_data"
        }
      ],
      "source": [
        "nota_media('MATEMATICA', 'Matemática')"
      ]
    },
    {
      "cell_type": "markdown",
      "id": "d2c1f4af",
      "metadata": {
        "id": "d2c1f4af"
      },
      "source": [
        "As notas médias da prova de Ciência da Natureza foram **518.31**, **536.58** e **524.17** para 2017, 2018 e 2019, respectivamente."
      ]
    },
    {
      "cell_type": "markdown",
      "id": "f109417b",
      "metadata": {
        "id": "f109417b"
      },
      "source": [
        "### **e. Redação**"
      ]
    },
    {
      "cell_type": "code",
      "execution_count": null,
      "id": "f39151c3",
      "metadata": {
        "id": "f39151c3",
        "outputId": "d7fc995d-c972-465d-e8b6-3376aa908d48"
      },
      "outputs": [
        {
          "data": {
            "image/png": "[encoded data removed]",
            "text/plain": [
              "<Figure size 720x576 with 1 Axes>"
            ]
          },
          "metadata": {},
          "output_type": "display_data"
        }
      ],
      "source": [
        "nota_media('REDACAO', 'Redação')"
      ]
    },
    {
      "cell_type": "markdown",
      "id": "f791ae3b",
      "metadata": {
        "id": "f791ae3b"
      },
      "source": [
        "As notas médias da prova de Ciência da Natureza foram **533.85**, **520.03** e **583.28** para 2017, 2018 e 2019, respectivamente."
      ]
    },
    {
      "cell_type": "markdown",
      "id": "9bf68d3b",
      "metadata": {
        "id": "9bf68d3b"
      },
      "source": [
        "### **f. Nota total (soma a+b+c+d+e)**"
      ]
    },
    {
      "cell_type": "code",
      "execution_count": null,
      "id": "c44577f0",
      "metadata": {
        "scrolled": true,
        "id": "c44577f0",
        "outputId": "d89510af-4147-459b-97fb-f668729f8bbd"
      },
      "outputs": [
        {
          "data": {
            "text/html": [
              "<div>\n",
              "<style scoped>\n",
              "    .dataframe tbody tr th:only-of-type {\n",
              "        vertical-align: middle;\n",
              "    }\n",
              "\n",
              "    .dataframe tbody tr th {\n",
              "        vertical-align: top;\n",
              "    }\n",
              "\n",
              "    .dataframe thead th {\n",
              "        text-align: right;\n",
              "    }\n",
              "</style>\n",
              "<table border=\"1\" class=\"dataframe\">\n",
              "  <thead>\n",
              "    <tr style=\"text-align: right;\">\n",
              "      <th></th>\n",
              "      <th>ANO</th>\n",
              "      <th>CIEN_NAT</th>\n",
              "      <th>CIEN_HUM</th>\n",
              "      <th>LING_COD</th>\n",
              "      <th>MATEMATICA</th>\n",
              "      <th>REDACAO</th>\n",
              "      <th>NOTA_TOTAL</th>\n",
              "    </tr>\n",
              "  </thead>\n",
              "  <tbody>\n",
              "    <tr>\n",
              "      <th>0</th>\n",
              "      <td>2017</td>\n",
              "      <td>506.26</td>\n",
              "      <td>516.13</td>\n",
              "      <td>505.72</td>\n",
              "      <td>518.31</td>\n",
              "      <td>533.85</td>\n",
              "      <td>2580.27</td>\n",
              "    </tr>\n",
              "    <tr>\n",
              "      <th>1</th>\n",
              "      <td>2018</td>\n",
              "      <td>492.80</td>\n",
              "      <td>565.40</td>\n",
              "      <td>524.65</td>\n",
              "      <td>536.58</td>\n",
              "      <td>520.03</td>\n",
              "      <td>2639.46</td>\n",
              "    </tr>\n",
              "    <tr>\n",
              "      <th>2</th>\n",
              "      <td>2019</td>\n",
              "      <td>473.70</td>\n",
              "      <td>505.78</td>\n",
              "      <td>518.79</td>\n",
              "      <td>524.17</td>\n",
              "      <td>583.28</td>\n",
              "      <td>2605.72</td>\n",
              "    </tr>\n",
              "  </tbody>\n",
              "</table>\n",
              "</div>"
            ],
            "text/plain": [
              "    ANO  CIEN_NAT  CIEN_HUM  LING_COD  MATEMATICA  REDACAO  NOTA_TOTAL\n",
              "0  2017    506.26    516.13    505.72      518.31   533.85     2580.27\n",
              "1  2018    492.80    565.40    524.65      536.58   520.03     2639.46\n",
              "2  2019    473.70    505.78    518.79      524.17   583.28     2605.72"
            ]
          },
          "execution_count": 34,
          "metadata": {},
          "output_type": "execute_result"
        }
      ],
      "source": [
        "materias = round(df.groupby('ANO', as_index=False)[['CIEN_NAT', 'CIEN_HUM', 'LING_COD', 'MATEMATICA', 'REDACAO']].mean(), 2)\n",
        "materias['NOTA_TOTAL'] = materias[['CIEN_NAT', 'CIEN_HUM', 'LING_COD', 'MATEMATICA', 'REDACAO']].sum(axis=1)\n",
        "materias"
      ]
    },
    {
      "cell_type": "markdown",
      "id": "d0b59319",
      "metadata": {
        "id": "d0b59319"
      },
      "source": [
        "As notas totais resultaram em **2580.27**, **2639.46** e **2605.72** para 2017, 2018 e 2019, respectivamente.\n",
        "\n",
        "Podemos notar que no geral as notas subiram com o passar dos anos, porém, com destaque par ao ano de 2018 que apresentou maiores notas."
      ]
    },
    {
      "cell_type": "markdown",
      "id": "1119d2ce",
      "metadata": {
        "id": "1119d2ce"
      },
      "source": [
        "### **8. Quais escolas devem receber o investimento?**"
      ]
    },
    {
      "cell_type": "markdown",
      "id": "5d64561d",
      "metadata": {
        "id": "5d64561d"
      },
      "source": [
        "**Carregamento dos dados de IDHM por município.**"
      ]
    },
    {
      "cell_type": "code",
      "execution_count": null,
      "id": "734d7cb4",
      "metadata": {
        "id": "734d7cb4",
        "outputId": "2bb5eb04-d57a-4b9b-97ca-aa6d3d66038d"
      },
      "outputs": [
        {
          "data": {
            "text/plain": [
              "['/home/tsr/Desktop/DesafioDataScience/Dados/microdados_educacao_basica_2019.zip',\n",
              " '/home/tsr/Desktop/DesafioDataScience/Dados/censo_demografico.zip']"
            ]
          },
          "execution_count": 35,
          "metadata": {},
          "output_type": "execute_result"
        }
      ],
      "source": [
        "censo_files"
      ]
    },
    {
      "cell_type": "code",
      "execution_count": null,
      "id": "a2e06943",
      "metadata": {
        "id": "a2e06943",
        "outputId": "c7a48be9-0153-450f-dc6f-389bc51d3e75"
      },
      "outputs": [
        {
          "name": "stdout",
          "output_type": "stream",
          "text": [
            "Atlas 2013_municipal, estadual e Brasil.xlsx\n",
            "Atlas 2017_desagregações sexo, cor e situação de domicílio.xlsx\n"
          ]
        }
      ],
      "source": [
        "# visualizar dentro do arquivo .zip para definir qual arquivo será utilizado para a análise\n",
        "with zipfile.ZipFile(censo_files[1]) as z:\n",
        "    print(*z.namelist(), sep='\\n')"
      ]
    },
    {
      "cell_type": "code",
      "execution_count": null,
      "id": "a1975ba6",
      "metadata": {
        "id": "a1975ba6"
      },
      "outputs": [],
      "source": [
        "# extrair o arquivo para a análise\n",
        "with zipfile.ZipFile(censo_files[1]) as z:\n",
        "    xlsxfile = z.open('Atlas 2013_municipal, estadual e Brasil.xlsx')"
      ]
    },
    {
      "cell_type": "markdown",
      "id": "f1571c0b",
      "metadata": {
        "id": "f1571c0b"
      },
      "source": [
        "**Vamos carregar o dataset contendo o nome dos municípios e seus respectivos valores de IDHM.**"
      ]
    },
    {
      "cell_type": "code",
      "execution_count": null,
      "id": "00950a72",
      "metadata": {
        "id": "00950a72"
      },
      "outputs": [],
      "source": [
        "# criar dataframe com o dataset\n",
        "df1 = pd.read_excel(xlsxfile, sheet_name = 'MUN 91-00-10', usecols = ['ANO','Município', 'IDHM'])\n",
        "df1.rename(columns = {'Município':'MUNICIPIO'}, inplace = True)"
      ]
    },
    {
      "cell_type": "code",
      "execution_count": null,
      "id": "6d922716",
      "metadata": {
        "scrolled": false,
        "id": "6d922716",
        "outputId": "88a8203a-0eba-44ce-a070-edeca1b6c815"
      },
      "outputs": [
        {
          "data": {
            "text/html": [
              "<div>\n",
              "<style scoped>\n",
              "    .dataframe tbody tr th:only-of-type {\n",
              "        vertical-align: middle;\n",
              "    }\n",
              "\n",
              "    .dataframe tbody tr th {\n",
              "        vertical-align: top;\n",
              "    }\n",
              "\n",
              "    .dataframe thead th {\n",
              "        text-align: right;\n",
              "    }\n",
              "</style>\n",
              "<table border=\"1\" class=\"dataframe\">\n",
              "  <thead>\n",
              "    <tr style=\"text-align: right;\">\n",
              "      <th></th>\n",
              "      <th>ANO</th>\n",
              "      <th>MUNICIPIO</th>\n",
              "      <th>IDHM</th>\n",
              "    </tr>\n",
              "  </thead>\n",
              "  <tbody>\n",
              "    <tr>\n",
              "      <th>0</th>\n",
              "      <td>1991</td>\n",
              "      <td>ALTA FLORESTA D'OESTE</td>\n",
              "      <td>0.329</td>\n",
              "    </tr>\n",
              "    <tr>\n",
              "      <th>1</th>\n",
              "      <td>1991</td>\n",
              "      <td>ARIQUEMES</td>\n",
              "      <td>0.432</td>\n",
              "    </tr>\n",
              "    <tr>\n",
              "      <th>2</th>\n",
              "      <td>1991</td>\n",
              "      <td>CABIXI</td>\n",
              "      <td>0.309</td>\n",
              "    </tr>\n",
              "    <tr>\n",
              "      <th>3</th>\n",
              "      <td>1991</td>\n",
              "      <td>CACOAL</td>\n",
              "      <td>0.407</td>\n",
              "    </tr>\n",
              "    <tr>\n",
              "      <th>4</th>\n",
              "      <td>1991</td>\n",
              "      <td>CEREJEIRAS</td>\n",
              "      <td>0.386</td>\n",
              "    </tr>\n",
              "  </tbody>\n",
              "</table>\n",
              "</div>"
            ],
            "text/plain": [
              "    ANO              MUNICIPIO   IDHM\n",
              "0  1991  ALTA FLORESTA D'OESTE  0.329\n",
              "1  1991              ARIQUEMES  0.432\n",
              "2  1991                 CABIXI  0.309\n",
              "3  1991                 CACOAL  0.407\n",
              "4  1991             CEREJEIRAS  0.386"
            ]
          },
          "execution_count": 39,
          "metadata": {},
          "output_type": "execute_result"
        }
      ],
      "source": [
        "# visualizar as 5 primeiras linhas\n",
        "df1.head()"
      ]
    },
    {
      "cell_type": "markdown",
      "id": "3c29272c",
      "metadata": {
        "id": "3c29272c"
      },
      "source": [
        "**Agora vamos ranquear os municípios em categorias de acordo com os valores de IDHM.**"
      ]
    },
    {
      "cell_type": "code",
      "execution_count": null,
      "id": "ec07fc52",
      "metadata": {
        "id": "ec07fc52"
      },
      "outputs": [],
      "source": [
        "# função para ranquear os municípios de acordo com o IDHM\n",
        "def rank(df1):\n",
        "    if df1.IDHM <= 0.499:\n",
        "        return 'Muito baixo'\n",
        "    elif df1.IDHM >= 0.500 and df1.IDHM <= 0.599:\n",
        "        return 'Baixo'\n",
        "    elif df1.IDHM >= 0.600 and df1.IDHM <= 0.699:\n",
        "        return 'Médio'\n",
        "    elif df1.IDHM >= 0.700 and df1.IDHM <= 0.799:\n",
        "        return 'Alto'\n",
        "    elif df1.IDHM >= 0.800 and df1.IDHM <= 1.000:\n",
        "        return 'Muito alto'"
      ]
    },
    {
      "cell_type": "code",
      "execution_count": null,
      "id": "a4d9048b",
      "metadata": {
        "id": "a4d9048b"
      },
      "outputs": [],
      "source": [
        "# criar coluna com os rankings\n",
        "df1['RANK_IDHM'] = df1.apply(rank, axis=1)\n",
        "    "
      ]
    },
    {
      "cell_type": "code",
      "execution_count": null,
      "id": "e7829b7f",
      "metadata": {
        "scrolled": true,
        "id": "e7829b7f",
        "outputId": "235ad8f6-4e15-4361-cf09-15a6be45d69e"
      },
      "outputs": [
        {
          "data": {
            "text/html": [
              "<div>\n",
              "<style scoped>\n",
              "    .dataframe tbody tr th:only-of-type {\n",
              "        vertical-align: middle;\n",
              "    }\n",
              "\n",
              "    .dataframe tbody tr th {\n",
              "        vertical-align: top;\n",
              "    }\n",
              "\n",
              "    .dataframe thead th {\n",
              "        text-align: right;\n",
              "    }\n",
              "</style>\n",
              "<table border=\"1\" class=\"dataframe\">\n",
              "  <thead>\n",
              "    <tr style=\"text-align: right;\">\n",
              "      <th></th>\n",
              "      <th>ANO</th>\n",
              "      <th>MUNICIPIO</th>\n",
              "      <th>IDHM</th>\n",
              "      <th>RANK_IDHM</th>\n",
              "    </tr>\n",
              "  </thead>\n",
              "  <tbody>\n",
              "    <tr>\n",
              "      <th>0</th>\n",
              "      <td>1991</td>\n",
              "      <td>ALTA FLORESTA D'OESTE</td>\n",
              "      <td>0.329</td>\n",
              "      <td>Muito baixo</td>\n",
              "    </tr>\n",
              "    <tr>\n",
              "      <th>1</th>\n",
              "      <td>1991</td>\n",
              "      <td>ARIQUEMES</td>\n",
              "      <td>0.432</td>\n",
              "      <td>Muito baixo</td>\n",
              "    </tr>\n",
              "    <tr>\n",
              "      <th>2</th>\n",
              "      <td>1991</td>\n",
              "      <td>CABIXI</td>\n",
              "      <td>0.309</td>\n",
              "      <td>Muito baixo</td>\n",
              "    </tr>\n",
              "    <tr>\n",
              "      <th>3</th>\n",
              "      <td>1991</td>\n",
              "      <td>CACOAL</td>\n",
              "      <td>0.407</td>\n",
              "      <td>Muito baixo</td>\n",
              "    </tr>\n",
              "    <tr>\n",
              "      <th>4</th>\n",
              "      <td>1991</td>\n",
              "      <td>CEREJEIRAS</td>\n",
              "      <td>0.386</td>\n",
              "      <td>Muito baixo</td>\n",
              "    </tr>\n",
              "  </tbody>\n",
              "</table>\n",
              "</div>"
            ],
            "text/plain": [
              "    ANO              MUNICIPIO   IDHM    RANK_IDHM\n",
              "0  1991  ALTA FLORESTA D'OESTE  0.329  Muito baixo\n",
              "1  1991              ARIQUEMES  0.432  Muito baixo\n",
              "2  1991                 CABIXI  0.309  Muito baixo\n",
              "3  1991                 CACOAL  0.407  Muito baixo\n",
              "4  1991             CEREJEIRAS  0.386  Muito baixo"
            ]
          },
          "execution_count": 42,
          "metadata": {},
          "output_type": "execute_result"
        }
      ],
      "source": [
        "# visualizar as 5 primeiras linhas\n",
        "df1.head()"
      ]
    },
    {
      "cell_type": "markdown",
      "id": "89bf6c1c",
      "metadata": {
        "id": "89bf6c1c"
      },
      "source": [
        "**Para trabalhar com os dados mais atuais, precisamos filtrar o dataframe para o último ano disponibilizado, neste caso 2010.**"
      ]
    },
    {
      "cell_type": "code",
      "execution_count": null,
      "id": "54b7b371",
      "metadata": {
        "scrolled": true,
        "id": "54b7b371",
        "outputId": "0ba04b9f-781d-4a77-d78b-5ed7d72ee0d7"
      },
      "outputs": [
        {
          "data": {
            "text/html": [
              "<div>\n",
              "<style scoped>\n",
              "    .dataframe tbody tr th:only-of-type {\n",
              "        vertical-align: middle;\n",
              "    }\n",
              "\n",
              "    .dataframe tbody tr th {\n",
              "        vertical-align: top;\n",
              "    }\n",
              "\n",
              "    .dataframe thead th {\n",
              "        text-align: right;\n",
              "    }\n",
              "</style>\n",
              "<table border=\"1\" class=\"dataframe\">\n",
              "  <thead>\n",
              "    <tr style=\"text-align: right;\">\n",
              "      <th></th>\n",
              "      <th>ANO</th>\n",
              "      <th>MUNICIPIO</th>\n",
              "      <th>IDHM</th>\n",
              "      <th>RANK_IDHM</th>\n",
              "    </tr>\n",
              "  </thead>\n",
              "  <tbody>\n",
              "    <tr>\n",
              "      <th>11130</th>\n",
              "      <td>2010</td>\n",
              "      <td>ALTA FLORESTA D'OESTE</td>\n",
              "      <td>0.641</td>\n",
              "      <td>Médio</td>\n",
              "    </tr>\n",
              "    <tr>\n",
              "      <th>11131</th>\n",
              "      <td>2010</td>\n",
              "      <td>ARIQUEMES</td>\n",
              "      <td>0.702</td>\n",
              "      <td>Alto</td>\n",
              "    </tr>\n",
              "    <tr>\n",
              "      <th>11132</th>\n",
              "      <td>2010</td>\n",
              "      <td>CABIXI</td>\n",
              "      <td>0.650</td>\n",
              "      <td>Médio</td>\n",
              "    </tr>\n",
              "    <tr>\n",
              "      <th>11133</th>\n",
              "      <td>2010</td>\n",
              "      <td>CACOAL</td>\n",
              "      <td>0.718</td>\n",
              "      <td>Alto</td>\n",
              "    </tr>\n",
              "    <tr>\n",
              "      <th>11134</th>\n",
              "      <td>2010</td>\n",
              "      <td>CEREJEIRAS</td>\n",
              "      <td>0.692</td>\n",
              "      <td>Médio</td>\n",
              "    </tr>\n",
              "  </tbody>\n",
              "</table>\n",
              "</div>"
            ],
            "text/plain": [
              "        ANO              MUNICIPIO   IDHM RANK_IDHM\n",
              "11130  2010  ALTA FLORESTA D'OESTE  0.641     Médio\n",
              "11131  2010              ARIQUEMES  0.702      Alto\n",
              "11132  2010                 CABIXI  0.650     Médio\n",
              "11133  2010                 CACOAL  0.718      Alto\n",
              "11134  2010             CEREJEIRAS  0.692     Médio"
            ]
          },
          "execution_count": 43,
          "metadata": {},
          "output_type": "execute_result"
        }
      ],
      "source": [
        "# filtrar o dataframe para o ano mais atual coletado 2010\n",
        "df1_2010 = df1.loc[df1['ANO'] == 2010]\n",
        "df1_2010.head()"
      ]
    },
    {
      "cell_type": "markdown",
      "id": "fef46c7b",
      "metadata": {
        "id": "fef46c7b"
      },
      "source": [
        "**Como existem vários inscritos da mesma escola, precisamos retornar a média das escolas retornando também o município que estão inseridas.**"
      ]
    },
    {
      "cell_type": "code",
      "execution_count": null,
      "id": "764bde82",
      "metadata": {
        "scrolled": true,
        "id": "764bde82",
        "outputId": "d435f0cd-ef6d-43a4-95d3-0e4f6d68da22"
      },
      "outputs": [
        {
          "data": {
            "text/html": [
              "<div>\n",
              "<style scoped>\n",
              "    .dataframe tbody tr th:only-of-type {\n",
              "        vertical-align: middle;\n",
              "    }\n",
              "\n",
              "    .dataframe tbody tr th {\n",
              "        vertical-align: top;\n",
              "    }\n",
              "\n",
              "    .dataframe thead th {\n",
              "        text-align: right;\n",
              "    }\n",
              "</style>\n",
              "<table border=\"1\" class=\"dataframe\">\n",
              "  <thead>\n",
              "    <tr style=\"text-align: right;\">\n",
              "      <th></th>\n",
              "      <th>ESCOLA</th>\n",
              "      <th>MUNICIPIO</th>\n",
              "      <th>MEDIA</th>\n",
              "    </tr>\n",
              "  </thead>\n",
              "  <tbody>\n",
              "    <tr>\n",
              "      <th>0</th>\n",
              "      <td>11000058.0</td>\n",
              "      <td>PORTO VELHO</td>\n",
              "      <td>639.53</td>\n",
              "    </tr>\n",
              "    <tr>\n",
              "      <th>1</th>\n",
              "      <td>11000171.0</td>\n",
              "      <td>PORTO VELHO</td>\n",
              "      <td>546.64</td>\n",
              "    </tr>\n",
              "    <tr>\n",
              "      <th>2</th>\n",
              "      <td>11000180.0</td>\n",
              "      <td>PORTO VELHO</td>\n",
              "      <td>462.95</td>\n",
              "    </tr>\n",
              "    <tr>\n",
              "      <th>3</th>\n",
              "      <td>11000198.0</td>\n",
              "      <td>PORTO VELHO</td>\n",
              "      <td>584.31</td>\n",
              "    </tr>\n",
              "    <tr>\n",
              "      <th>4</th>\n",
              "      <td>11000244.0</td>\n",
              "      <td>PORTO VELHO</td>\n",
              "      <td>567.90</td>\n",
              "    </tr>\n",
              "  </tbody>\n",
              "</table>\n",
              "</div>"
            ],
            "text/plain": [
              "       ESCOLA    MUNICIPIO   MEDIA\n",
              "0  11000058.0  PORTO VELHO  639.53\n",
              "1  11000171.0  PORTO VELHO  546.64\n",
              "2  11000180.0  PORTO VELHO  462.95\n",
              "3  11000198.0  PORTO VELHO  584.31\n",
              "4  11000244.0  PORTO VELHO  567.90"
            ]
          },
          "execution_count": 45,
          "metadata": {},
          "output_type": "execute_result"
        }
      ],
      "source": [
        "# agrupar o código da escola, o municipio e a nota média dos inscritos por escolas\n",
        "df_agrup = round(df.groupby(['ESCOLA', 'MUNICIPIO'], as_index = False)['MEDIA'].mean(), 2)\n",
        "df_agrup.head()"
      ]
    },
    {
      "cell_type": "markdown",
      "id": "2c2a5e4d",
      "metadata": {
        "id": "2c2a5e4d"
      },
      "source": [
        "**Agora precisamos atribuir os rankings de IDHM obtidos anteriormente à cada município.**"
      ]
    },
    {
      "cell_type": "code",
      "execution_count": null,
      "id": "98743ad1",
      "metadata": {
        "scrolled": true,
        "id": "98743ad1",
        "outputId": "19453431-3c93-436c-a742-3732d7c86e8e"
      },
      "outputs": [
        {
          "data": {
            "text/html": [
              "<div>\n",
              "<style scoped>\n",
              "    .dataframe tbody tr th:only-of-type {\n",
              "        vertical-align: middle;\n",
              "    }\n",
              "\n",
              "    .dataframe tbody tr th {\n",
              "        vertical-align: top;\n",
              "    }\n",
              "\n",
              "    .dataframe thead th {\n",
              "        text-align: right;\n",
              "    }\n",
              "</style>\n",
              "<table border=\"1\" class=\"dataframe\">\n",
              "  <thead>\n",
              "    <tr style=\"text-align: right;\">\n",
              "      <th></th>\n",
              "      <th>ESCOLA</th>\n",
              "      <th>MUNICIPIO</th>\n",
              "      <th>MEDIA</th>\n",
              "      <th>RANK_IDHM</th>\n",
              "    </tr>\n",
              "  </thead>\n",
              "  <tbody>\n",
              "    <tr>\n",
              "      <th>0</th>\n",
              "      <td>11000058.0</td>\n",
              "      <td>PORTO VELHO</td>\n",
              "      <td>639.53</td>\n",
              "      <td>Alto</td>\n",
              "    </tr>\n",
              "    <tr>\n",
              "      <th>1</th>\n",
              "      <td>11000171.0</td>\n",
              "      <td>PORTO VELHO</td>\n",
              "      <td>546.64</td>\n",
              "      <td>Alto</td>\n",
              "    </tr>\n",
              "    <tr>\n",
              "      <th>2</th>\n",
              "      <td>11000180.0</td>\n",
              "      <td>PORTO VELHO</td>\n",
              "      <td>462.95</td>\n",
              "      <td>Alto</td>\n",
              "    </tr>\n",
              "    <tr>\n",
              "      <th>3</th>\n",
              "      <td>11000198.0</td>\n",
              "      <td>PORTO VELHO</td>\n",
              "      <td>584.31</td>\n",
              "      <td>Alto</td>\n",
              "    </tr>\n",
              "    <tr>\n",
              "      <th>4</th>\n",
              "      <td>11000244.0</td>\n",
              "      <td>PORTO VELHO</td>\n",
              "      <td>567.90</td>\n",
              "      <td>Alto</td>\n",
              "    </tr>\n",
              "  </tbody>\n",
              "</table>\n",
              "</div>"
            ],
            "text/plain": [
              "       ESCOLA    MUNICIPIO   MEDIA RANK_IDHM\n",
              "0  11000058.0  PORTO VELHO  639.53      Alto\n",
              "1  11000171.0  PORTO VELHO  546.64      Alto\n",
              "2  11000180.0  PORTO VELHO  462.95      Alto\n",
              "3  11000198.0  PORTO VELHO  584.31      Alto\n",
              "4  11000244.0  PORTO VELHO  567.90      Alto"
            ]
          },
          "execution_count": 46,
          "metadata": {},
          "output_type": "execute_result"
        }
      ],
      "source": [
        "# atribuir o ranking de IDHM ao município de cada escola\n",
        "df_merged = pd.merge(df_agrup, df1_2010[['RANK_IDHM', 'MUNICIPIO']], on=['MUNICIPIO'], how='left')\n",
        "df_merged.head()"
      ]
    },
    {
      "cell_type": "markdown",
      "id": "058d4438",
      "metadata": {
        "id": "058d4438"
      },
      "source": [
        "**Como vamos trabalhar apenas com municípios classificados com Baixo ou Muito Baixo IDHM, precisamos filtrar para que apenas estes sejam contabilizados.**"
      ]
    },
    {
      "cell_type": "code",
      "execution_count": null,
      "id": "5a4b8fba",
      "metadata": {
        "scrolled": true,
        "id": "5a4b8fba",
        "outputId": "a58056c5-3c50-4149-d8e1-2209cadab9ae"
      },
      "outputs": [
        {
          "data": {
            "text/html": [
              "<div>\n",
              "<style scoped>\n",
              "    .dataframe tbody tr th:only-of-type {\n",
              "        vertical-align: middle;\n",
              "    }\n",
              "\n",
              "    .dataframe tbody tr th {\n",
              "        vertical-align: top;\n",
              "    }\n",
              "\n",
              "    .dataframe thead th {\n",
              "        text-align: right;\n",
              "    }\n",
              "</style>\n",
              "<table border=\"1\" class=\"dataframe\">\n",
              "  <thead>\n",
              "    <tr style=\"text-align: right;\">\n",
              "      <th></th>\n",
              "      <th>ESCOLA</th>\n",
              "      <th>MUNICIPIO</th>\n",
              "      <th>MEDIA</th>\n",
              "      <th>RANK_IDHM</th>\n",
              "    </tr>\n",
              "  </thead>\n",
              "  <tbody>\n",
              "    <tr>\n",
              "      <th>55</th>\n",
              "      <td>11003839.0</td>\n",
              "      <td>NOVA MAMORÉ</td>\n",
              "      <td>412.05</td>\n",
              "      <td>Baixo</td>\n",
              "    </tr>\n",
              "    <tr>\n",
              "      <th>56</th>\n",
              "      <td>11003979.0</td>\n",
              "      <td>NOVA MAMORÉ</td>\n",
              "      <td>476.11</td>\n",
              "      <td>Baixo</td>\n",
              "    </tr>\n",
              "    <tr>\n",
              "      <th>57</th>\n",
              "      <td>11004347.0</td>\n",
              "      <td>CAMPO NOVO DE RONDÔNIA</td>\n",
              "      <td>499.86</td>\n",
              "      <td>Baixo</td>\n",
              "    </tr>\n",
              "    <tr>\n",
              "      <th>85</th>\n",
              "      <td>11007982.0</td>\n",
              "      <td>MACHADINHO D'OESTE</td>\n",
              "      <td>436.18</td>\n",
              "      <td>Baixo</td>\n",
              "    </tr>\n",
              "    <tr>\n",
              "      <th>86</th>\n",
              "      <td>11008008.0</td>\n",
              "      <td>MACHADINHO D'OESTE</td>\n",
              "      <td>487.52</td>\n",
              "      <td>Baixo</td>\n",
              "    </tr>\n",
              "  </tbody>\n",
              "</table>\n",
              "</div>"
            ],
            "text/plain": [
              "        ESCOLA               MUNICIPIO   MEDIA RANK_IDHM\n",
              "55  11003839.0             NOVA MAMORÉ  412.05     Baixo\n",
              "56  11003979.0             NOVA MAMORÉ  476.11     Baixo\n",
              "57  11004347.0  CAMPO NOVO DE RONDÔNIA  499.86     Baixo\n",
              "85  11007982.0      MACHADINHO D'OESTE  436.18     Baixo\n",
              "86  11008008.0      MACHADINHO D'OESTE  487.52     Baixo"
            ]
          },
          "execution_count": 47,
          "metadata": {},
          "output_type": "execute_result"
        }
      ],
      "source": [
        "# filtrar para retornar apenas os municípios ranqueados como Baixo ou Muito baixo\n",
        "df_rank = df_merged.loc[(df_merged['RANK_IDHM'] == 'Muito baixo') | (df_merged['RANK_IDHM'] == 'Baixo')]\n",
        "df_rank.head()"
      ]
    },
    {
      "cell_type": "markdown",
      "id": "2cda144f",
      "metadata": {
        "id": "2cda144f"
      },
      "source": [
        "**Para obtermos o nome das escolas, precisamos carregar base de dados do censo da educação básica onde estão vinculados os códigos e o nomes das escolas.**"
      ]
    },
    {
      "cell_type": "code",
      "execution_count": null,
      "id": "b0dc8527",
      "metadata": {
        "id": "b0dc8527",
        "outputId": "f2eaea37-f769-4668-f455-9609a792953e"
      },
      "outputs": [
        {
          "name": "stdout",
          "output_type": "stream",
          "text": [
            "microdados_educacao_basica_2019/\n",
            "microdados_educacao_basica_2019/ANEXOS/\n",
            "microdados_educacao_basica_2019/ANEXOS/ANEXO I - Dicionário de Dados e Tabelas Auxiliares/\n",
            "microdados_educacao_basica_2019/ANEXOS/ANEXO I - Dicionário de Dados e Tabelas Auxiliares/Dicionário de Dados da Educaç╞o Básica.xlsx\n",
            "microdados_educacao_basica_2019/ANEXOS/ANEXO I - Dicionário de Dados e Tabelas Auxiliares/Tabelas Auxiliares.xlsx\n",
            "microdados_educacao_basica_2019/ANEXOS/ANEXO I - Dicionário de Dados e Tabelas Auxiliares/~$Dicionário de Dados da Educaç╞o Básica.xlsx\n",
            "microdados_educacao_basica_2019/ANEXOS/ANEXO II -  Questionários do Censo da Educaç╞o Basica/\n",
            "microdados_educacao_basica_2019/ANEXOS/ANEXO II -  Questionários do Censo da Educaç╞o Basica/Cadastro_Aluno.pdf\n",
            "microdados_educacao_basica_2019/ANEXOS/ANEXO II -  Questionários do Censo da Educaç╞o Basica/Cadastro_Escola.pdf\n",
            "microdados_educacao_basica_2019/ANEXOS/ANEXO II -  Questionários do Censo da Educaç╞o Basica/Cadastro_Gestor_Escolar.pdf\n",
            "microdados_educacao_basica_2019/ANEXOS/ANEXO II -  Questionários do Censo da Educaç╞o Basica/Cadastro_Profissional_Escolar.pdf\n",
            "microdados_educacao_basica_2019/ANEXOS/ANEXO II -  Questionários do Censo da Educaç╞o Basica/Cadastro_Turma.pdf\n",
            "microdados_educacao_basica_2019/DADOS/\n",
            "microdados_educacao_basica_2019/DADOS/DOCENTES_CO.CSV\n",
            "microdados_educacao_basica_2019/DADOS/DOCENTES_NORDESTE.CSV\n",
            "microdados_educacao_basica_2019/DADOS/DOCENTES_NORTE.CSV\n",
            "microdados_educacao_basica_2019/DADOS/DOCENTES_SUDESTE.CSV\n",
            "microdados_educacao_basica_2019/DADOS/DOCENTES_SUL.CSV\n",
            "microdados_educacao_basica_2019/DADOS/ESCOLAS.CSV\n",
            "microdados_educacao_basica_2019/DADOS/GESTOR.CSV\n",
            "microdados_educacao_basica_2019/DADOS/MATRICULA_CO.CSV\n",
            "microdados_educacao_basica_2019/DADOS/MATRICULA_NORDESTE.CSV\n",
            "microdados_educacao_basica_2019/DADOS/MATRICULA_NORTE.CSV\n",
            "microdados_educacao_basica_2019/DADOS/MATRICULA_SUDESTE.CSV\n",
            "microdados_educacao_basica_2019/DADOS/MATRICULA_SUL.CSV\n",
            "microdados_educacao_basica_2019/DADOS/MD5_microdados_ed_basica_2019.txt\n",
            "microdados_educacao_basica_2019/DADOS/TURMAS.CSV\n",
            "microdados_educacao_basica_2019/FILTROS/\n",
            "microdados_educacao_basica_2019/FILTROS/Filtros Censo Ed Basica 2019.pdf\n",
            "microdados_educacao_basica_2019/LEIA-ME/\n",
            "microdados_educacao_basica_2019/LEIA-ME/Leia-me 2019.pdf\n",
            "microdados_educacao_basica_2019/LEIA-ME/Nota Informativa nº 01.pdf\n",
            "microdados_educacao_basica_2019/LEIA-ME/Nota Informativa nº 02.pdf\n",
            "microdados_educacao_basica_2019/LEIA-ME/Nota Informativa nº 03.pdf\n"
          ]
        }
      ],
      "source": [
        "# visualizar dentro do arquivo .zip para definir qual arquivo será utilizado para a análise\n",
        "with zipfile.ZipFile(censo_files[0]) as z:\n",
        "    print(*z.namelist(), sep='\\n')"
      ]
    },
    {
      "cell_type": "code",
      "execution_count": null,
      "id": "f7bbbaa2",
      "metadata": {
        "id": "f7bbbaa2"
      },
      "outputs": [],
      "source": [
        "# extrair o arquivo para a análise\n",
        "with zipfile.ZipFile(censo_files[0]) as z:\n",
        "    escolas = z.open('microdados_educacao_basica_2019/DADOS/ESCOLAS.CSV')"
      ]
    },
    {
      "cell_type": "markdown",
      "id": "4ba0c8f6",
      "metadata": {
        "id": "4ba0c8f6"
      },
      "source": [
        "**Vamos carregar apenas os nomes das escolas e seus respectivos códigos.**"
      ]
    },
    {
      "cell_type": "code",
      "execution_count": null,
      "id": "09edb8cf",
      "metadata": {
        "id": "09edb8cf"
      },
      "outputs": [],
      "source": [
        "# criar dataframe com o dataset\n",
        "df2 = pd.read_csv(escolas, sep='|', encoding='ISO-8859-1', usecols=['CO_ENTIDADE', 'NO_ENTIDADE'])"
      ]
    },
    {
      "cell_type": "code",
      "execution_count": null,
      "id": "62a87e7f",
      "metadata": {
        "id": "62a87e7f",
        "outputId": "7fdd453f-ff94-4b28-dea3-31086018b14d"
      },
      "outputs": [
        {
          "data": {
            "text/html": [
              "<div>\n",
              "<style scoped>\n",
              "    .dataframe tbody tr th:only-of-type {\n",
              "        vertical-align: middle;\n",
              "    }\n",
              "\n",
              "    .dataframe tbody tr th {\n",
              "        vertical-align: top;\n",
              "    }\n",
              "\n",
              "    .dataframe thead th {\n",
              "        text-align: right;\n",
              "    }\n",
              "</style>\n",
              "<table border=\"1\" class=\"dataframe\">\n",
              "  <thead>\n",
              "    <tr style=\"text-align: right;\">\n",
              "      <th></th>\n",
              "      <th>ESCOLA</th>\n",
              "      <th>NOME_ESCOLA</th>\n",
              "    </tr>\n",
              "  </thead>\n",
              "  <tbody>\n",
              "    <tr>\n",
              "      <th>0</th>\n",
              "      <td>43098282</td>\n",
              "      <td>ESC EST ENS MED ALBERTO PASQUALINI</td>\n",
              "    </tr>\n",
              "    <tr>\n",
              "      <th>1</th>\n",
              "      <td>43098460</td>\n",
              "      <td>ESC MUN ENS FUN PADRE JOSE DE ANCHIETA</td>\n",
              "    </tr>\n",
              "    <tr>\n",
              "      <th>2</th>\n",
              "      <td>43098479</td>\n",
              "      <td>ESC EST ENS MED PROFESSORA EULINA BRAGA</td>\n",
              "    </tr>\n",
              "    <tr>\n",
              "      <th>3</th>\n",
              "      <td>43098487</td>\n",
              "      <td>ESC MUN ENS FUN REPUBLICA DA COLOMBIA</td>\n",
              "    </tr>\n",
              "    <tr>\n",
              "      <th>4</th>\n",
              "      <td>43098495</td>\n",
              "      <td>ESC EST ENS FUN SALOMAO IOCHPE</td>\n",
              "    </tr>\n",
              "  </tbody>\n",
              "</table>\n",
              "</div>"
            ],
            "text/plain": [
              "     ESCOLA                              NOME_ESCOLA\n",
              "0  43098282       ESC EST ENS MED ALBERTO PASQUALINI\n",
              "1  43098460   ESC MUN ENS FUN PADRE JOSE DE ANCHIETA\n",
              "2  43098479  ESC EST ENS MED PROFESSORA EULINA BRAGA\n",
              "3  43098487    ESC MUN ENS FUN REPUBLICA DA COLOMBIA\n",
              "4  43098495           ESC EST ENS FUN SALOMAO IOCHPE"
            ]
          },
          "execution_count": 51,
          "metadata": {},
          "output_type": "execute_result"
        }
      ],
      "source": [
        "df2.rename(columns = {'CO_ENTIDADE':'ESCOLA', 'NO_ENTIDADE':'NOME_ESCOLA'}, inplace = True)\n",
        "df2.head()"
      ]
    },
    {
      "cell_type": "markdown",
      "id": "6f7e5647",
      "metadata": {
        "id": "6f7e5647"
      },
      "source": [
        "**Agora podemos atribuir os nomes das escolas aos seus municípios.**"
      ]
    },
    {
      "cell_type": "code",
      "execution_count": null,
      "id": "91c2b0ee",
      "metadata": {
        "id": "91c2b0ee",
        "outputId": "70e29705-77df-4783-de07-e073c14b8af1"
      },
      "outputs": [
        {
          "data": {
            "text/html": [
              "<div>\n",
              "<style scoped>\n",
              "    .dataframe tbody tr th:only-of-type {\n",
              "        vertical-align: middle;\n",
              "    }\n",
              "\n",
              "    .dataframe tbody tr th {\n",
              "        vertical-align: top;\n",
              "    }\n",
              "\n",
              "    .dataframe thead th {\n",
              "        text-align: right;\n",
              "    }\n",
              "</style>\n",
              "<table border=\"1\" class=\"dataframe\">\n",
              "  <thead>\n",
              "    <tr style=\"text-align: right;\">\n",
              "      <th></th>\n",
              "      <th>ESCOLA</th>\n",
              "      <th>MUNICIPIO</th>\n",
              "      <th>MEDIA</th>\n",
              "      <th>RANK_IDHM</th>\n",
              "      <th>NOME_ESCOLA</th>\n",
              "    </tr>\n",
              "  </thead>\n",
              "  <tbody>\n",
              "    <tr>\n",
              "      <th>0</th>\n",
              "      <td>11003839.0</td>\n",
              "      <td>NOVA MAMORÉ</td>\n",
              "      <td>412.05</td>\n",
              "      <td>Baixo</td>\n",
              "      <td>CEEJA PROFª DORALICE SALES CAVALCANTE</td>\n",
              "    </tr>\n",
              "    <tr>\n",
              "      <th>1</th>\n",
              "      <td>11003979.0</td>\n",
              "      <td>NOVA MAMORÉ</td>\n",
              "      <td>476.11</td>\n",
              "      <td>Baixo</td>\n",
              "      <td>EEEFM CASIMIRO DE ABREU</td>\n",
              "    </tr>\n",
              "    <tr>\n",
              "      <th>2</th>\n",
              "      <td>11004347.0</td>\n",
              "      <td>CAMPO NOVO DE RONDÔNIA</td>\n",
              "      <td>499.86</td>\n",
              "      <td>Baixo</td>\n",
              "      <td>EEEFM 15 DE OUTUBRO</td>\n",
              "    </tr>\n",
              "    <tr>\n",
              "      <th>3</th>\n",
              "      <td>11007982.0</td>\n",
              "      <td>MACHADINHO D'OESTE</td>\n",
              "      <td>436.18</td>\n",
              "      <td>Baixo</td>\n",
              "      <td>CENTRO ESTADUAL DE EDUCACAO DE JOVENS E ADULTO...</td>\n",
              "    </tr>\n",
              "    <tr>\n",
              "      <th>4</th>\n",
              "      <td>11008008.0</td>\n",
              "      <td>MACHADINHO D'OESTE</td>\n",
              "      <td>487.52</td>\n",
              "      <td>Baixo</td>\n",
              "      <td>EEEFM ALBERTO NEPOMUCENO</td>\n",
              "    </tr>\n",
              "  </tbody>\n",
              "</table>\n",
              "</div>"
            ],
            "text/plain": [
              "       ESCOLA               MUNICIPIO   MEDIA RANK_IDHM  \\\n",
              "0  11003839.0             NOVA MAMORÉ  412.05     Baixo   \n",
              "1  11003979.0             NOVA MAMORÉ  476.11     Baixo   \n",
              "2  11004347.0  CAMPO NOVO DE RONDÔNIA  499.86     Baixo   \n",
              "3  11007982.0      MACHADINHO D'OESTE  436.18     Baixo   \n",
              "4  11008008.0      MACHADINHO D'OESTE  487.52     Baixo   \n",
              "\n",
              "                                         NOME_ESCOLA  \n",
              "0              CEEJA PROFª DORALICE SALES CAVALCANTE  \n",
              "1                            EEEFM CASIMIRO DE ABREU  \n",
              "2                                EEEFM 15 DE OUTUBRO  \n",
              "3  CENTRO ESTADUAL DE EDUCACAO DE JOVENS E ADULTO...  \n",
              "4                           EEEFM ALBERTO NEPOMUCENO  "
            ]
          },
          "execution_count": 52,
          "metadata": {},
          "output_type": "execute_result"
        }
      ],
      "source": [
        "df2_merged = pd.merge(df_rank, df2[['ESCOLA', 'NOME_ESCOLA']], on=['ESCOLA'], how='left')\n",
        "df2_merged.head()"
      ]
    },
    {
      "cell_type": "markdown",
      "id": "53e9e61e",
      "metadata": {
        "id": "53e9e61e"
      },
      "source": [
        "**Como o nome das escolas é fundamental para que possamos obter uma lista daquelas que receberão o auxílio, vamos verificar se existem dados de nomes de escolas faltantes. Posteriormente, precisaremos eliminar esses dados faltantes para que a lista não seja comprometida.**"
      ]
    },
    {
      "cell_type": "code",
      "execution_count": null,
      "id": "7d8ff8a5",
      "metadata": {
        "id": "7d8ff8a5",
        "outputId": "e3d11728-174e-45a1-c2ed-af0a817cbdea"
      },
      "outputs": [
        {
          "data": {
            "text/plain": [
              "ESCOLA           0\n",
              "MUNICIPIO        0\n",
              "MEDIA            0\n",
              "RANK_IDHM        0\n",
              "NOME_ESCOLA    171\n",
              "dtype: int64"
            ]
          },
          "execution_count": 54,
          "metadata": {},
          "output_type": "execute_result"
        }
      ],
      "source": [
        "# verificar se há escolas com nomes faltantes\n",
        "df2_merged.isnull().sum()"
      ]
    },
    {
      "cell_type": "code",
      "execution_count": null,
      "id": "86521bbb",
      "metadata": {
        "id": "86521bbb"
      },
      "outputs": [],
      "source": [
        "# eliminar missing values das escolas sem nome\n",
        "df2_merged.dropna(inplace=True)"
      ]
    },
    {
      "cell_type": "markdown",
      "id": "c47d22ef",
      "metadata": {
        "id": "c47d22ef"
      },
      "source": [
        "**Como existem escolas com médias críticas tanto em municípios com ambas as classificações de IDHM (Baixo e Muito Baixo), vamos filtrar 50 escolas com as menores médias de cada IDHM.**"
      ]
    },
    {
      "cell_type": "code",
      "execution_count": null,
      "id": "3c65ed21",
      "metadata": {
        "id": "3c65ed21"
      },
      "outputs": [],
      "source": [
        "# filtrar 50 escolas de cada ranking (Baixo e Muito baixo) com as menores notas\n",
        "df_muitobaixo = df2_merged.sort_values('MEDIA').loc[df2_merged['RANK_IDHM'] == 'Muito baixo'].head(50)\n",
        "df_baixo = df2_merged.sort_values('MEDIA').loc[df2_merged['RANK_IDHM'] == 'Baixo'].head(50)"
      ]
    },
    {
      "cell_type": "markdown",
      "id": "582e3e1c",
      "metadata": {
        "id": "582e3e1c"
      },
      "source": [
        "**Foram selecionadas as escolas com as menores notas médias das provas, sendo essas 50 pertencentes aos municípios considerados de baixo IDHM e 50 pertencentes aos municípios considerados de muito baixo IDHM.**\n",
        "\n",
        "**O nome das 100 escolas estão apresentadas juntamente com os municípios as quais pertencem e podem ser visualizadas abaixo.** "
      ]
    },
    {
      "cell_type": "code",
      "execution_count": null,
      "id": "e6a0cea5",
      "metadata": {
        "scrolled": false,
        "id": "e6a0cea5",
        "outputId": "c2cab471-e2d3-4534-85c6-21d21b784a13"
      },
      "outputs": [
        {
          "data": {
            "text/html": [
              "<div>\n",
              "<style scoped>\n",
              "    .dataframe tbody tr th:only-of-type {\n",
              "        vertical-align: middle;\n",
              "    }\n",
              "\n",
              "    .dataframe tbody tr th {\n",
              "        vertical-align: top;\n",
              "    }\n",
              "\n",
              "    .dataframe thead th {\n",
              "        text-align: right;\n",
              "    }\n",
              "</style>\n",
              "<table border=\"1\" class=\"dataframe\">\n",
              "  <thead>\n",
              "    <tr style=\"text-align: right;\">\n",
              "      <th></th>\n",
              "      <th>ESCOLA</th>\n",
              "      <th>MUNICIPIO</th>\n",
              "      <th>MEDIA</th>\n",
              "      <th>RANK_IDHM</th>\n",
              "      <th>NOME_ESCOLA</th>\n",
              "    </tr>\n",
              "  </thead>\n",
              "  <tbody>\n",
              "    <tr>\n",
              "      <th>52</th>\n",
              "      <td>12005290.0</td>\n",
              "      <td>JORDÃO</td>\n",
              "      <td>348.34</td>\n",
              "      <td>Muito baixo</td>\n",
              "      <td>ESC NOSSA SENHORA DE GUADALUPE</td>\n",
              "    </tr>\n",
              "    <tr>\n",
              "      <th>423</th>\n",
              "      <td>15029808.0</td>\n",
              "      <td>CHAVES</td>\n",
              "      <td>348.38</td>\n",
              "      <td>Muito baixo</td>\n",
              "      <td>E M E F EDMAR BARBOSA</td>\n",
              "    </tr>\n",
              "    <tr>\n",
              "      <th>137</th>\n",
              "      <td>13007327.0</td>\n",
              "      <td>SANTO ANTÔNIO DO IÇÁ</td>\n",
              "      <td>367.00</td>\n",
              "      <td>Muito baixo</td>\n",
              "      <td>ESCOLA ESTADUAL DOM PEDRO I</td>\n",
              "    </tr>\n",
              "    <tr>\n",
              "      <th>367</th>\n",
              "      <td>14320290.0</td>\n",
              "      <td>UIRAMUTÃ</td>\n",
              "      <td>371.58</td>\n",
              "      <td>Muito baixo</td>\n",
              "      <td>ESCOLA ESTADUAL INDIGENA JULIO PEREIRA</td>\n",
              "    </tr>\n",
              "    <tr>\n",
              "      <th>818</th>\n",
              "      <td>15090400.0</td>\n",
              "      <td>IPIXUNA DO PARÁ</td>\n",
              "      <td>380.80</td>\n",
              "      <td>Muito baixo</td>\n",
              "      <td>E M E F DR FERNANDO GUILHON</td>\n",
              "    </tr>\n",
              "    <tr>\n",
              "      <th>361</th>\n",
              "      <td>14003465.0</td>\n",
              "      <td>UIRAMUTÃ</td>\n",
              "      <td>383.92</td>\n",
              "      <td>Muito baixo</td>\n",
              "      <td>ESCOLA ESTADUAL INDIGENA TUXAUA LAURO MELQUIOR</td>\n",
              "    </tr>\n",
              "    <tr>\n",
              "      <th>1235</th>\n",
              "      <td>15558142.0</td>\n",
              "      <td>PORTEL</td>\n",
              "      <td>385.90</td>\n",
              "      <td>Muito baixo</td>\n",
              "      <td>E M E F PROF PAULO AFONSO DE AZEVEDO MESQUITA</td>\n",
              "    </tr>\n",
              "    <tr>\n",
              "      <th>274</th>\n",
              "      <td>13069640.0</td>\n",
              "      <td>SANTO ANTÔNIO DO IÇÁ</td>\n",
              "      <td>388.72</td>\n",
              "      <td>Muito baixo</td>\n",
              "      <td>ESCOLA ESTADUAL ROSA GARCIA</td>\n",
              "    </tr>\n",
              "    <tr>\n",
              "      <th>51</th>\n",
              "      <td>12005240.0</td>\n",
              "      <td>JORDÃO</td>\n",
              "      <td>395.74</td>\n",
              "      <td>Muito baixo</td>\n",
              "      <td>ESC MANOEL RODRIGUES DE FARIAS</td>\n",
              "    </tr>\n",
              "    <tr>\n",
              "      <th>1886</th>\n",
              "      <td>21260176.0</td>\n",
              "      <td>JENIPAPO DOS VIEIRAS</td>\n",
              "      <td>408.05</td>\n",
              "      <td>Muito baixo</td>\n",
              "      <td>CENTRO DE ENSINO PROFESSORA MARIA ANITA OLIVEI...</td>\n",
              "    </tr>\n",
              "    <tr>\n",
              "      <th>2026</th>\n",
              "      <td>21297002.0</td>\n",
              "      <td>JENIPAPO DOS VIEIRAS</td>\n",
              "      <td>414.58</td>\n",
              "      <td>Muito baixo</td>\n",
              "      <td>CENTRO DE ENSINO PROFESSORA MARIA ANITA OLIVEI...</td>\n",
              "    </tr>\n",
              "    <tr>\n",
              "      <th>122</th>\n",
              "      <td>13004263.0</td>\n",
              "      <td>MARAÃ</td>\n",
              "      <td>419.04</td>\n",
              "      <td>Muito baixo</td>\n",
              "      <td>ESCOLA ESTADUAL JOAO BOSCO RAMOS DE LIMA</td>\n",
              "    </tr>\n",
              "    <tr>\n",
              "      <th>1758</th>\n",
              "      <td>21193157.0</td>\n",
              "      <td>JENIPAPO DOS VIEIRAS</td>\n",
              "      <td>420.68</td>\n",
              "      <td>Muito baixo</td>\n",
              "      <td>UNIDADE INTEGRADA DE EDUCACAO ESCOLAR INDIGENA...</td>\n",
              "    </tr>\n",
              "    <tr>\n",
              "      <th>136</th>\n",
              "      <td>13007300.0</td>\n",
              "      <td>SANTO ANTÔNIO DO IÇÁ</td>\n",
              "      <td>424.08</td>\n",
              "      <td>Muito baixo</td>\n",
              "      <td>ESCOLA ESTADUAL DEUZALINA PINTO RIBEIRO</td>\n",
              "    </tr>\n",
              "    <tr>\n",
              "      <th>125</th>\n",
              "      <td>13004972.0</td>\n",
              "      <td>ATALAIA DO NORTE</td>\n",
              "      <td>430.08</td>\n",
              "      <td>Muito baixo</td>\n",
              "      <td>ESCOLA ESTADUAL TENENTE RUFINO</td>\n",
              "    </tr>\n",
              "    <tr>\n",
              "      <th>1823</th>\n",
              "      <td>21243883.0</td>\n",
              "      <td>JENIPAPO DOS VIEIRAS</td>\n",
              "      <td>433.72</td>\n",
              "      <td>Muito baixo</td>\n",
              "      <td>CENTRO DE ENSINO PROFESSORA MARIA ANITA OLIVEI...</td>\n",
              "    </tr>\n",
              "    <tr>\n",
              "      <th>2541</th>\n",
              "      <td>22140115.0</td>\n",
              "      <td>COCAL</td>\n",
              "      <td>438.63</td>\n",
              "      <td>Muito baixo</td>\n",
              "      <td>CEEPRU DEPUTADO RIBEIRO MAGALHAES</td>\n",
              "    </tr>\n",
              "    <tr>\n",
              "      <th>2552</th>\n",
              "      <td>22143300.0</td>\n",
              "      <td>SÃO FRANCISCO DE ASSIS DO PIAUÍ</td>\n",
              "      <td>439.13</td>\n",
              "      <td>Muito baixo</td>\n",
              "      <td>U E CIRILA MARIA DE JESUS</td>\n",
              "    </tr>\n",
              "    <tr>\n",
              "      <th>333</th>\n",
              "      <td>13271210.0</td>\n",
              "      <td>IPIXUNA</td>\n",
              "      <td>439.86</td>\n",
              "      <td>Muito baixo</td>\n",
              "      <td>CENTRO RURAL DE ENSINO COM MEDIACAO TECNOLOGIC...</td>\n",
              "    </tr>\n",
              "    <tr>\n",
              "      <th>1327</th>\n",
              "      <td>15578640.0</td>\n",
              "      <td>PORTEL</td>\n",
              "      <td>439.94</td>\n",
              "      <td>Muito baixo</td>\n",
              "      <td>E M E I F EZIDIO MACIEL</td>\n",
              "    </tr>\n",
              "    <tr>\n",
              "      <th>2068</th>\n",
              "      <td>21335826.0</td>\n",
              "      <td>FERNANDO FALCÃO</td>\n",
              "      <td>440.44</td>\n",
              "      <td>Muito baixo</td>\n",
              "      <td>CENTRO DE ENSINO PROFESSOR GALENO EDGAR BRANDE...</td>\n",
              "    </tr>\n",
              "    <tr>\n",
              "      <th>124</th>\n",
              "      <td>13004964.0</td>\n",
              "      <td>ATALAIA DO NORTE</td>\n",
              "      <td>440.71</td>\n",
              "      <td>Muito baixo</td>\n",
              "      <td>ESCOLA ESTADUAL PIO VEIGA</td>\n",
              "    </tr>\n",
              "    <tr>\n",
              "      <th>366</th>\n",
              "      <td>14008025.0</td>\n",
              "      <td>AMAJARI</td>\n",
              "      <td>441.06</td>\n",
              "      <td>Muito baixo</td>\n",
              "      <td>ESCOLA ESTADUAL FRANCISCO PEREIRA DA SILVA</td>\n",
              "    </tr>\n",
              "    <tr>\n",
              "      <th>3189</th>\n",
              "      <td>26029243.0</td>\n",
              "      <td>MANARI</td>\n",
              "      <td>442.38</td>\n",
              "      <td>Muito baixo</td>\n",
              "      <td>ESCOLA DE REFERENCIA EM ENSINO MEDIO CORONEL M...</td>\n",
              "    </tr>\n",
              "    <tr>\n",
              "      <th>849</th>\n",
              "      <td>15098141.0</td>\n",
              "      <td>CACHOEIRA DO PIRIÁ</td>\n",
              "      <td>442.44</td>\n",
              "      <td>Muito baixo</td>\n",
              "      <td>EEEFM CEL NEWTON BARREIRA</td>\n",
              "    </tr>\n",
              "    <tr>\n",
              "      <th>351</th>\n",
              "      <td>14001012.0</td>\n",
              "      <td>AMAJARI</td>\n",
              "      <td>442.47</td>\n",
              "      <td>Muito baixo</td>\n",
              "      <td>ESCOLA ESTADUAL INDIGENA TUXAUA MANOEL HORACIO</td>\n",
              "    </tr>\n",
              "    <tr>\n",
              "      <th>121</th>\n",
              "      <td>13004255.0</td>\n",
              "      <td>MARAÃ</td>\n",
              "      <td>443.19</td>\n",
              "      <td>Muito baixo</td>\n",
              "      <td>ESCOLA ESTADUAL BENTA SOLART</td>\n",
              "    </tr>\n",
              "    <tr>\n",
              "      <th>139</th>\n",
              "      <td>13007521.0</td>\n",
              "      <td>SANTO ANTÔNIO DO IÇÁ</td>\n",
              "      <td>445.24</td>\n",
              "      <td>Muito baixo</td>\n",
              "      <td>ESCOLA ESTADUAL PRESIDENTE VARGAS</td>\n",
              "    </tr>\n",
              "    <tr>\n",
              "      <th>401</th>\n",
              "      <td>15020797.0</td>\n",
              "      <td>MELGAÇO</td>\n",
              "      <td>447.04</td>\n",
              "      <td>Muito baixo</td>\n",
              "      <td>EMEF JARBAS PASSARINHO</td>\n",
              "    </tr>\n",
              "    <tr>\n",
              "      <th>229</th>\n",
              "      <td>13045938.0</td>\n",
              "      <td>PAUINI</td>\n",
              "      <td>448.55</td>\n",
              "      <td>Muito baixo</td>\n",
              "      <td>ESCOLA ESTADUAL FREI MARIO SABINO</td>\n",
              "    </tr>\n",
              "    <tr>\n",
              "      <th>150</th>\n",
              "      <td>13012096.0</td>\n",
              "      <td>ITAMARATI</td>\n",
              "      <td>448.91</td>\n",
              "      <td>Muito baixo</td>\n",
              "      <td>ESCOLA ESTADUAL FRANCIDENE SOARES BARROSO</td>\n",
              "    </tr>\n",
              "    <tr>\n",
              "      <th>1816</th>\n",
              "      <td>21242330.0</td>\n",
              "      <td>MARAJÁ DO SENA</td>\n",
              "      <td>451.10</td>\n",
              "      <td>Muito baixo</td>\n",
              "      <td>CENTRO DE ENSINO RUI BARBOSA - ANEXO III - CES...</td>\n",
              "    </tr>\n",
              "    <tr>\n",
              "      <th>404</th>\n",
              "      <td>15024237.0</td>\n",
              "      <td>ANAJÁS</td>\n",
              "      <td>451.33</td>\n",
              "      <td>Muito baixo</td>\n",
              "      <td>EEEM RUI BARBOSA</td>\n",
              "    </tr>\n",
              "    <tr>\n",
              "      <th>138</th>\n",
              "      <td>13007351.0</td>\n",
              "      <td>SANTO ANTÔNIO DO IÇÁ</td>\n",
              "      <td>451.51</td>\n",
              "      <td>Muito baixo</td>\n",
              "      <td>ESCOLA ESTADUAL SANTO ANTONIO</td>\n",
              "    </tr>\n",
              "    <tr>\n",
              "      <th>230</th>\n",
              "      <td>13046128.0</td>\n",
              "      <td>PAUINI</td>\n",
              "      <td>451.62</td>\n",
              "      <td>Muito baixo</td>\n",
              "      <td>ESC FREI MARIO SABINO</td>\n",
              "    </tr>\n",
              "    <tr>\n",
              "      <th>1053</th>\n",
              "      <td>15168743.0</td>\n",
              "      <td>IPIXUNA DO PARÁ</td>\n",
              "      <td>451.96</td>\n",
              "      <td>Muito baixo</td>\n",
              "      <td>EEEM ADELIA CARVALHO SODRE - ANEXO I</td>\n",
              "    </tr>\n",
              "    <tr>\n",
              "      <th>3526</th>\n",
              "      <td>27011577.0</td>\n",
              "      <td>OLIVENÇA</td>\n",
              "      <td>452.10</td>\n",
              "      <td>Muito baixo</td>\n",
              "      <td>ESCOLA ESTADUAL DESEMBARGADOR AUGUSTO COSTA</td>\n",
              "    </tr>\n",
              "    <tr>\n",
              "      <th>3482</th>\n",
              "      <td>27001750.0</td>\n",
              "      <td>INHAPI</td>\n",
              "      <td>452.20</td>\n",
              "      <td>Muito baixo</td>\n",
              "      <td>ESCOLA ESTADUAL DE ENSINO MEDIO NEZINHO PEREIRA</td>\n",
              "    </tr>\n",
              "    <tr>\n",
              "      <th>1050</th>\n",
              "      <td>15168530.0</td>\n",
              "      <td>IPIXUNA DO PARÁ</td>\n",
              "      <td>452.44</td>\n",
              "      <td>Muito baixo</td>\n",
              "      <td>EMEF CLIDENO GOMES DA COSTA</td>\n",
              "    </tr>\n",
              "    <tr>\n",
              "      <th>288</th>\n",
              "      <td>13083430.0</td>\n",
              "      <td>PAUINI</td>\n",
              "      <td>452.64</td>\n",
              "      <td>Muito baixo</td>\n",
              "      <td>ESCOLA ESTADUAL CRUZEIRO DO CEU</td>\n",
              "    </tr>\n",
              "    <tr>\n",
              "      <th>101</th>\n",
              "      <td>12030155.0</td>\n",
              "      <td>JORDÃO</td>\n",
              "      <td>454.76</td>\n",
              "      <td>Muito baixo</td>\n",
              "      <td>ESC JAIRO DE FIGUEIREDO MELO</td>\n",
              "    </tr>\n",
              "    <tr>\n",
              "      <th>291</th>\n",
              "      <td>13087266.0</td>\n",
              "      <td>IPIXUNA</td>\n",
              "      <td>455.04</td>\n",
              "      <td>Muito baixo</td>\n",
              "      <td>ESCOLA ESTADUAL IPIXUNA</td>\n",
              "    </tr>\n",
              "    <tr>\n",
              "      <th>400</th>\n",
              "      <td>15020282.0</td>\n",
              "      <td>MELGAÇO</td>\n",
              "      <td>456.94</td>\n",
              "      <td>Muito baixo</td>\n",
              "      <td>EEEFM PRES TANCREDO DE ALMEIDA NEVES</td>\n",
              "    </tr>\n",
              "    <tr>\n",
              "      <th>847</th>\n",
              "      <td>15097307.0</td>\n",
              "      <td>CACHOEIRA DO PIRIÁ</td>\n",
              "      <td>457.06</td>\n",
              "      <td>Muito baixo</td>\n",
              "      <td>EEEFM ADRIANO GONCALVES</td>\n",
              "    </tr>\n",
              "    <tr>\n",
              "      <th>149</th>\n",
              "      <td>13011413.0</td>\n",
              "      <td>IPIXUNA</td>\n",
              "      <td>458.03</td>\n",
              "      <td>Muito baixo</td>\n",
              "      <td>ESCOLA ESTADUAL ARMANDO DE SOUZA MENDES</td>\n",
              "    </tr>\n",
              "    <tr>\n",
              "      <th>422</th>\n",
              "      <td>15029220.0</td>\n",
              "      <td>CHAVES</td>\n",
              "      <td>459.31</td>\n",
              "      <td>Muito baixo</td>\n",
              "      <td>EEEM MAGALHAES BARATA</td>\n",
              "    </tr>\n",
              "    <tr>\n",
              "      <th>1623</th>\n",
              "      <td>21108269.0</td>\n",
              "      <td>SATUBINHA</td>\n",
              "      <td>459.97</td>\n",
              "      <td>Muito baixo</td>\n",
              "      <td>CENTRO DE ENSINO ESTADO DE SERGIPE</td>\n",
              "    </tr>\n",
              "    <tr>\n",
              "      <th>397</th>\n",
              "      <td>15018644.0</td>\n",
              "      <td>BAGRE</td>\n",
              "      <td>460.03</td>\n",
              "      <td>Muito baixo</td>\n",
              "      <td>EEEM JULIAO BERTOLDO DE CASTRO</td>\n",
              "    </tr>\n",
              "    <tr>\n",
              "      <th>3662</th>\n",
              "      <td>27230562.0</td>\n",
              "      <td>INHAPI</td>\n",
              "      <td>460.37</td>\n",
              "      <td>Muito baixo</td>\n",
              "      <td>ESCOLA INDIGENA ANCELMO BISPO DE SOUZA</td>\n",
              "    </tr>\n",
              "    <tr>\n",
              "      <th>118</th>\n",
              "      <td>13000837.0</td>\n",
              "      <td>SANTA ISABEL DO RIO NEGRO</td>\n",
              "      <td>461.22</td>\n",
              "      <td>Muito baixo</td>\n",
              "      <td>ESCOLA ESTADUAL PADRE SCHANAIDER</td>\n",
              "    </tr>\n",
              "  </tbody>\n",
              "</table>\n",
              "</div>"
            ],
            "text/plain": [
              "          ESCOLA                        MUNICIPIO   MEDIA    RANK_IDHM  \\\n",
              "52    12005290.0                           JORDÃO  348.34  Muito baixo   \n",
              "423   15029808.0                           CHAVES  348.38  Muito baixo   \n",
              "137   13007327.0             SANTO ANTÔNIO DO IÇÁ  367.00  Muito baixo   \n",
              "367   14320290.0                         UIRAMUTÃ  371.58  Muito baixo   \n",
              "818   15090400.0                  IPIXUNA DO PARÁ  380.80  Muito baixo   \n",
              "361   14003465.0                         UIRAMUTÃ  383.92  Muito baixo   \n",
              "1235  15558142.0                           PORTEL  385.90  Muito baixo   \n",
              "274   13069640.0             SANTO ANTÔNIO DO IÇÁ  388.72  Muito baixo   \n",
              "51    12005240.0                           JORDÃO  395.74  Muito baixo   \n",
              "1886  21260176.0             JENIPAPO DOS VIEIRAS  408.05  Muito baixo   \n",
              "2026  21297002.0             JENIPAPO DOS VIEIRAS  414.58  Muito baixo   \n",
              "122   13004263.0                            MARAÃ  419.04  Muito baixo   \n",
              "1758  21193157.0             JENIPAPO DOS VIEIRAS  420.68  Muito baixo   \n",
              "136   13007300.0             SANTO ANTÔNIO DO IÇÁ  424.08  Muito baixo   \n",
              "125   13004972.0                 ATALAIA DO NORTE  430.08  Muito baixo   \n",
              "1823  21243883.0             JENIPAPO DOS VIEIRAS  433.72  Muito baixo   \n",
              "2541  22140115.0                            COCAL  438.63  Muito baixo   \n",
              "2552  22143300.0  SÃO FRANCISCO DE ASSIS DO PIAUÍ  439.13  Muito baixo   \n",
              "333   13271210.0                          IPIXUNA  439.86  Muito baixo   \n",
              "1327  15578640.0                           PORTEL  439.94  Muito baixo   \n",
              "2068  21335826.0                  FERNANDO FALCÃO  440.44  Muito baixo   \n",
              "124   13004964.0                 ATALAIA DO NORTE  440.71  Muito baixo   \n",
              "366   14008025.0                          AMAJARI  441.06  Muito baixo   \n",
              "3189  26029243.0                           MANARI  442.38  Muito baixo   \n",
              "849   15098141.0               CACHOEIRA DO PIRIÁ  442.44  Muito baixo   \n",
              "351   14001012.0                          AMAJARI  442.47  Muito baixo   \n",
              "121   13004255.0                            MARAÃ  443.19  Muito baixo   \n",
              "139   13007521.0             SANTO ANTÔNIO DO IÇÁ  445.24  Muito baixo   \n",
              "401   15020797.0                          MELGAÇO  447.04  Muito baixo   \n",
              "229   13045938.0                           PAUINI  448.55  Muito baixo   \n",
              "150   13012096.0                        ITAMARATI  448.91  Muito baixo   \n",
              "1816  21242330.0                   MARAJÁ DO SENA  451.10  Muito baixo   \n",
              "404   15024237.0                           ANAJÁS  451.33  Muito baixo   \n",
              "138   13007351.0             SANTO ANTÔNIO DO IÇÁ  451.51  Muito baixo   \n",
              "230   13046128.0                           PAUINI  451.62  Muito baixo   \n",
              "1053  15168743.0                  IPIXUNA DO PARÁ  451.96  Muito baixo   \n",
              "3526  27011577.0                         OLIVENÇA  452.10  Muito baixo   \n",
              "3482  27001750.0                           INHAPI  452.20  Muito baixo   \n",
              "1050  15168530.0                  IPIXUNA DO PARÁ  452.44  Muito baixo   \n",
              "288   13083430.0                           PAUINI  452.64  Muito baixo   \n",
              "101   12030155.0                           JORDÃO  454.76  Muito baixo   \n",
              "291   13087266.0                          IPIXUNA  455.04  Muito baixo   \n",
              "400   15020282.0                          MELGAÇO  456.94  Muito baixo   \n",
              "847   15097307.0               CACHOEIRA DO PIRIÁ  457.06  Muito baixo   \n",
              "149   13011413.0                          IPIXUNA  458.03  Muito baixo   \n",
              "422   15029220.0                           CHAVES  459.31  Muito baixo   \n",
              "1623  21108269.0                        SATUBINHA  459.97  Muito baixo   \n",
              "397   15018644.0                            BAGRE  460.03  Muito baixo   \n",
              "3662  27230562.0                           INHAPI  460.37  Muito baixo   \n",
              "118   13000837.0        SANTA ISABEL DO RIO NEGRO  461.22  Muito baixo   \n",
              "\n",
              "                                            NOME_ESCOLA  \n",
              "52                       ESC NOSSA SENHORA DE GUADALUPE  \n",
              "423                               E M E F EDMAR BARBOSA  \n",
              "137                         ESCOLA ESTADUAL DOM PEDRO I  \n",
              "367              ESCOLA ESTADUAL INDIGENA JULIO PEREIRA  \n",
              "818                         E M E F DR FERNANDO GUILHON  \n",
              "361      ESCOLA ESTADUAL INDIGENA TUXAUA LAURO MELQUIOR  \n",
              "1235      E M E F PROF PAULO AFONSO DE AZEVEDO MESQUITA  \n",
              "274                         ESCOLA ESTADUAL ROSA GARCIA  \n",
              "51                       ESC MANOEL RODRIGUES DE FARIAS  \n",
              "1886  CENTRO DE ENSINO PROFESSORA MARIA ANITA OLIVEI...  \n",
              "2026  CENTRO DE ENSINO PROFESSORA MARIA ANITA OLIVEI...  \n",
              "122            ESCOLA ESTADUAL JOAO BOSCO RAMOS DE LIMA  \n",
              "1758  UNIDADE INTEGRADA DE EDUCACAO ESCOLAR INDIGENA...  \n",
              "136             ESCOLA ESTADUAL DEUZALINA PINTO RIBEIRO  \n",
              "125                      ESCOLA ESTADUAL TENENTE RUFINO  \n",
              "1823  CENTRO DE ENSINO PROFESSORA MARIA ANITA OLIVEI...  \n",
              "2541                  CEEPRU DEPUTADO RIBEIRO MAGALHAES  \n",
              "2552                          U E CIRILA MARIA DE JESUS  \n",
              "333   CENTRO RURAL DE ENSINO COM MEDIACAO TECNOLOGIC...  \n",
              "1327                            E M E I F EZIDIO MACIEL  \n",
              "2068  CENTRO DE ENSINO PROFESSOR GALENO EDGAR BRANDE...  \n",
              "124                           ESCOLA ESTADUAL PIO VEIGA  \n",
              "366          ESCOLA ESTADUAL FRANCISCO PEREIRA DA SILVA  \n",
              "3189  ESCOLA DE REFERENCIA EM ENSINO MEDIO CORONEL M...  \n",
              "849                           EEEFM CEL NEWTON BARREIRA  \n",
              "351      ESCOLA ESTADUAL INDIGENA TUXAUA MANOEL HORACIO  \n",
              "121                        ESCOLA ESTADUAL BENTA SOLART  \n",
              "139                   ESCOLA ESTADUAL PRESIDENTE VARGAS  \n",
              "401                              EMEF JARBAS PASSARINHO  \n",
              "229                   ESCOLA ESTADUAL FREI MARIO SABINO  \n",
              "150           ESCOLA ESTADUAL FRANCIDENE SOARES BARROSO  \n",
              "1816  CENTRO DE ENSINO RUI BARBOSA - ANEXO III - CES...  \n",
              "404                                    EEEM RUI BARBOSA  \n",
              "138                       ESCOLA ESTADUAL SANTO ANTONIO  \n",
              "230                               ESC FREI MARIO SABINO  \n",
              "1053               EEEM ADELIA CARVALHO SODRE - ANEXO I  \n",
              "3526        ESCOLA ESTADUAL DESEMBARGADOR AUGUSTO COSTA  \n",
              "3482    ESCOLA ESTADUAL DE ENSINO MEDIO NEZINHO PEREIRA  \n",
              "1050                        EMEF CLIDENO GOMES DA COSTA  \n",
              "288                     ESCOLA ESTADUAL CRUZEIRO DO CEU  \n",
              "101                        ESC JAIRO DE FIGUEIREDO MELO  \n",
              "291                             ESCOLA ESTADUAL IPIXUNA  \n",
              "400                EEEFM PRES TANCREDO DE ALMEIDA NEVES  \n",
              "847                             EEEFM ADRIANO GONCALVES  \n",
              "149             ESCOLA ESTADUAL ARMANDO DE SOUZA MENDES  \n",
              "422                               EEEM MAGALHAES BARATA  \n",
              "1623                 CENTRO DE ENSINO ESTADO DE SERGIPE  \n",
              "397                      EEEM JULIAO BERTOLDO DE CASTRO  \n",
              "3662             ESCOLA INDIGENA ANCELMO BISPO DE SOUZA  \n",
              "118                    ESCOLA ESTADUAL PADRE SCHANAIDER  "
            ]
          },
          "metadata": {},
          "output_type": "display_data"
        },
        {
          "data": {
            "text/html": [
              "<div>\n",
              "<style scoped>\n",
              "    .dataframe tbody tr th:only-of-type {\n",
              "        vertical-align: middle;\n",
              "    }\n",
              "\n",
              "    .dataframe tbody tr th {\n",
              "        vertical-align: top;\n",
              "    }\n",
              "\n",
              "    .dataframe thead th {\n",
              "        text-align: right;\n",
              "    }\n",
              "</style>\n",
              "<table border=\"1\" class=\"dataframe\">\n",
              "  <thead>\n",
              "    <tr style=\"text-align: right;\">\n",
              "      <th></th>\n",
              "      <th>ESCOLA</th>\n",
              "      <th>MUNICIPIO</th>\n",
              "      <th>MEDIA</th>\n",
              "      <th>RANK_IDHM</th>\n",
              "      <th>NOME_ESCOLA</th>\n",
              "    </tr>\n",
              "  </thead>\n",
              "  <tbody>\n",
              "    <tr>\n",
              "      <th>47</th>\n",
              "      <td>12004766.0</td>\n",
              "      <td>FEIJÓ</td>\n",
              "      <td>304.54</td>\n",
              "      <td>Baixo</td>\n",
              "      <td>ESC PEDRO MOTA LEITAO</td>\n",
              "    </tr>\n",
              "    <tr>\n",
              "      <th>3708</th>\n",
              "      <td>28010434.0</td>\n",
              "      <td>TOBIAS BARRETO</td>\n",
              "      <td>310.72</td>\n",
              "      <td>Baixo</td>\n",
              "      <td>ESC MUN DE ENSINO FUND TELMA DE SOUZA ALMEIDA</td>\n",
              "    </tr>\n",
              "    <tr>\n",
              "      <th>940</th>\n",
              "      <td>15150020.0</td>\n",
              "      <td>ITUPIRANGA</td>\n",
              "      <td>311.46</td>\n",
              "      <td>Baixo</td>\n",
              "      <td>E M E F SANTA ISABEL</td>\n",
              "    </tr>\n",
              "    <tr>\n",
              "      <th>53</th>\n",
              "      <td>12005398.0</td>\n",
              "      <td>TARAUACÁ</td>\n",
              "      <td>314.82</td>\n",
              "      <td>Baixo</td>\n",
              "      <td>ESC 15 DE JUNHO</td>\n",
              "    </tr>\n",
              "    <tr>\n",
              "      <th>127</th>\n",
              "      <td>13005197.0</td>\n",
              "      <td>BENJAMIN CONSTANT</td>\n",
              "      <td>320.61</td>\n",
              "      <td>Baixo</td>\n",
              "      <td>ESC INDIGENA PORTO CORDEIRINHO</td>\n",
              "    </tr>\n",
              "    <tr>\n",
              "      <th>1130</th>\n",
              "      <td>15516989.0</td>\n",
              "      <td>ACARÁ</td>\n",
              "      <td>321.28</td>\n",
              "      <td>Baixo</td>\n",
              "      <td>E M E I F CASEMIRO FRANCISCO DE PAIVA</td>\n",
              "    </tr>\n",
              "    <tr>\n",
              "      <th>328</th>\n",
              "      <td>13238213.0</td>\n",
              "      <td>AMATURÁ</td>\n",
              "      <td>321.30</td>\n",
              "      <td>Baixo</td>\n",
              "      <td>CENTRO DE EDUCACAO INDIGENA - AMATURA</td>\n",
              "    </tr>\n",
              "    <tr>\n",
              "      <th>1429</th>\n",
              "      <td>17028523.0</td>\n",
              "      <td>GOIATINS</td>\n",
              "      <td>321.49</td>\n",
              "      <td>Baixo</td>\n",
              "      <td>ESCOLA ESTADUAL INDIGENA WAPXI</td>\n",
              "    </tr>\n",
              "    <tr>\n",
              "      <th>173</th>\n",
              "      <td>13018906.0</td>\n",
              "      <td>CODAJÁS</td>\n",
              "      <td>322.42</td>\n",
              "      <td>Baixo</td>\n",
              "      <td>ESCOLA ESTADUAL JOSE MELO DE OLIVEIRA</td>\n",
              "    </tr>\n",
              "    <tr>\n",
              "      <th>2375</th>\n",
              "      <td>22077375.0</td>\n",
              "      <td>PARNAGUÁ</td>\n",
              "      <td>322.46</td>\n",
              "      <td>Baixo</td>\n",
              "      <td>UNID ESC LAGOA DO MATO</td>\n",
              "    </tr>\n",
              "    <tr>\n",
              "      <th>281</th>\n",
              "      <td>13078690.0</td>\n",
              "      <td>MAUÉS</td>\n",
              "      <td>324.92</td>\n",
              "      <td>Baixo</td>\n",
              "      <td>ESC MUN MILTON BELIZARIO DE PAIVA</td>\n",
              "    </tr>\n",
              "    <tr>\n",
              "      <th>1146</th>\n",
              "      <td>15524876.0</td>\n",
              "      <td>GURUPÁ</td>\n",
              "      <td>327.08</td>\n",
              "      <td>Baixo</td>\n",
              "      <td>EMEF MANOEL JANUARIO NUNES</td>\n",
              "    </tr>\n",
              "    <tr>\n",
              "      <th>1447</th>\n",
              "      <td>17044049.0</td>\n",
              "      <td>GOIATINS</td>\n",
              "      <td>327.61</td>\n",
              "      <td>Baixo</td>\n",
              "      <td>ESCOLA ESTADUAL INDIGENA AGUA BRANCA</td>\n",
              "    </tr>\n",
              "    <tr>\n",
              "      <th>778</th>\n",
              "      <td>15076504.0</td>\n",
              "      <td>MOCAJUBA</td>\n",
              "      <td>330.70</td>\n",
              "      <td>Baixo</td>\n",
              "      <td>EMEF ALMIRANTE BARROSO</td>\n",
              "    </tr>\n",
              "    <tr>\n",
              "      <th>967</th>\n",
              "      <td>15158551.0</td>\n",
              "      <td>TRACUATEUA</td>\n",
              "      <td>330.70</td>\n",
              "      <td>Baixo</td>\n",
              "      <td>ESCOLA ROSA MARTIRES RODRIGUES CEU AZUL</td>\n",
              "    </tr>\n",
              "    <tr>\n",
              "      <th>409</th>\n",
              "      <td>15024822.0</td>\n",
              "      <td>BREVES</td>\n",
              "      <td>331.08</td>\n",
              "      <td>Baixo</td>\n",
              "      <td>E M E F PAULO RODRIGUES DOS SANTOS</td>\n",
              "    </tr>\n",
              "    <tr>\n",
              "      <th>4263</th>\n",
              "      <td>29377528.0</td>\n",
              "      <td>SOUTO SOARES</td>\n",
              "      <td>332.02</td>\n",
              "      <td>Baixo</td>\n",
              "      <td>ESCOLA MUNICIPAL OURICURI</td>\n",
              "    </tr>\n",
              "    <tr>\n",
              "      <th>2115</th>\n",
              "      <td>21371210.0</td>\n",
              "      <td>BURITI</td>\n",
              "      <td>333.84</td>\n",
              "      <td>Baixo</td>\n",
              "      <td>CENTRO DE ENSINO MARIA LUIZA NOVAES VIANA - AN...</td>\n",
              "    </tr>\n",
              "    <tr>\n",
              "      <th>1448</th>\n",
              "      <td>17051452.0</td>\n",
              "      <td>GOIATINS</td>\n",
              "      <td>333.94</td>\n",
              "      <td>Baixo</td>\n",
              "      <td>ESCOLA INDIGENA XEPJAKA</td>\n",
              "    </tr>\n",
              "    <tr>\n",
              "      <th>4377</th>\n",
              "      <td>29439728.0</td>\n",
              "      <td>RIACHO DE SANTANA</td>\n",
              "      <td>334.94</td>\n",
              "      <td>Baixo</td>\n",
              "      <td>COLEGIO MUNICIPAL MARIA AMARAL GUIMARAES GONDIM</td>\n",
              "    </tr>\n",
              "    <tr>\n",
              "      <th>1790</th>\n",
              "      <td>21219320.0</td>\n",
              "      <td>SENADOR ALEXANDRE COSTA</td>\n",
              "      <td>335.48</td>\n",
              "      <td>Baixo</td>\n",
              "      <td>UNIDADE INTEGRADA ALZIRA CESAR MENESES</td>\n",
              "    </tr>\n",
              "    <tr>\n",
              "      <th>1249</th>\n",
              "      <td>15560660.0</td>\n",
              "      <td>CURRALINHO</td>\n",
              "      <td>335.58</td>\n",
              "      <td>Baixo</td>\n",
              "      <td>E M E F FRANCISCO CHAGAS DA SILVA</td>\n",
              "    </tr>\n",
              "    <tr>\n",
              "      <th>282</th>\n",
              "      <td>13080830.0</td>\n",
              "      <td>CARAUARI</td>\n",
              "      <td>336.38</td>\n",
              "      <td>Baixo</td>\n",
              "      <td>ESC MUN SAO FRANCISCO - BOM JESUS</td>\n",
              "    </tr>\n",
              "    <tr>\n",
              "      <th>1789</th>\n",
              "      <td>21219257.0</td>\n",
              "      <td>GOVERNADOR NUNES FREIRE</td>\n",
              "      <td>336.40</td>\n",
              "      <td>Baixo</td>\n",
              "      <td>UNIDADE ESCOLAR GOVERNADOR NUNES FREIRE</td>\n",
              "    </tr>\n",
              "    <tr>\n",
              "      <th>914</th>\n",
              "      <td>15136264.0</td>\n",
              "      <td>SANTA MARIA DAS BARREIRAS</td>\n",
              "      <td>341.14</td>\n",
              "      <td>Baixo</td>\n",
              "      <td>E M E I F MARCELO DEL SANT</td>\n",
              "    </tr>\n",
              "    <tr>\n",
              "      <th>2045</th>\n",
              "      <td>21316805.0</td>\n",
              "      <td>SANTA LUZIA</td>\n",
              "      <td>341.28</td>\n",
              "      <td>Baixo</td>\n",
              "      <td>CE TRAVASSO FURTADO ANEXO I</td>\n",
              "    </tr>\n",
              "    <tr>\n",
              "      <th>2044</th>\n",
              "      <td>21316805.0</td>\n",
              "      <td>SANTA LUZIA</td>\n",
              "      <td>341.28</td>\n",
              "      <td>Baixo</td>\n",
              "      <td>CE TRAVASSO FURTADO ANEXO I</td>\n",
              "    </tr>\n",
              "    <tr>\n",
              "      <th>302</th>\n",
              "      <td>13096664.0</td>\n",
              "      <td>SÃO PAULO DE OLIVENÇA</td>\n",
              "      <td>343.10</td>\n",
              "      <td>Baixo</td>\n",
              "      <td>ESCOLA ESTADUAL INDIGENA POGUTA</td>\n",
              "    </tr>\n",
              "    <tr>\n",
              "      <th>1109</th>\n",
              "      <td>15219003.0</td>\n",
              "      <td>SÃO FÉLIX DO XINGU</td>\n",
              "      <td>344.12</td>\n",
              "      <td>Baixo</td>\n",
              "      <td>ASSOCIACAO DAS FAMILIAS ESCOLA COMUNITARIA CAS...</td>\n",
              "    </tr>\n",
              "    <tr>\n",
              "      <th>1428</th>\n",
              "      <td>17028493.0</td>\n",
              "      <td>GOIATINS</td>\n",
              "      <td>344.46</td>\n",
              "      <td>Baixo</td>\n",
              "      <td>ESCOLA INDIGENA CROKROC</td>\n",
              "    </tr>\n",
              "    <tr>\n",
              "      <th>4850</th>\n",
              "      <td>43200630.0</td>\n",
              "      <td>BOM JESUS</td>\n",
              "      <td>344.88</td>\n",
              "      <td>Baixo</td>\n",
              "      <td>ESC MUN DE EDU INF E ENS FUN BOM JESUS</td>\n",
              "    </tr>\n",
              "    <tr>\n",
              "      <th>4851</th>\n",
              "      <td>43200630.0</td>\n",
              "      <td>BOM JESUS</td>\n",
              "      <td>344.88</td>\n",
              "      <td>Baixo</td>\n",
              "      <td>ESC MUN DE EDU INF E ENS FUN BOM JESUS</td>\n",
              "    </tr>\n",
              "    <tr>\n",
              "      <th>4225</th>\n",
              "      <td>29328853.0</td>\n",
              "      <td>VEREDA</td>\n",
              "      <td>345.72</td>\n",
              "      <td>Baixo</td>\n",
              "      <td>ESCOLA MUNICIPAL LIEGE DANTAS FIGUEIREDO</td>\n",
              "    </tr>\n",
              "    <tr>\n",
              "      <th>3542</th>\n",
              "      <td>27018369.0</td>\n",
              "      <td>FEIRA GRANDE</td>\n",
              "      <td>345.74</td>\n",
              "      <td>Baixo</td>\n",
              "      <td>ESCOLA MUNICIPAL DE ENSINO FUNDAMENTAL VERIDIA...</td>\n",
              "    </tr>\n",
              "    <tr>\n",
              "      <th>1469</th>\n",
              "      <td>21028885.0</td>\n",
              "      <td>BARREIRINHAS</td>\n",
              "      <td>346.62</td>\n",
              "      <td>Baixo</td>\n",
              "      <td>UI JOAO BERNARDO FRANCISCO DOS SANTOS</td>\n",
              "    </tr>\n",
              "    <tr>\n",
              "      <th>380</th>\n",
              "      <td>15005151.0</td>\n",
              "      <td>ALENQUER</td>\n",
              "      <td>346.84</td>\n",
              "      <td>Baixo</td>\n",
              "      <td>EEEF FULGENCIO SIMOES</td>\n",
              "    </tr>\n",
              "    <tr>\n",
              "      <th>1319</th>\n",
              "      <td>15577384.0</td>\n",
              "      <td>BAIÃO</td>\n",
              "      <td>347.02</td>\n",
              "      <td>Baixo</td>\n",
              "      <td>E M E I PROF ESMAEL ALVES DE SOUZA</td>\n",
              "    </tr>\n",
              "    <tr>\n",
              "      <th>1950</th>\n",
              "      <td>21272514.0</td>\n",
              "      <td>ITAPECURU MIRIM</td>\n",
              "      <td>347.16</td>\n",
              "      <td>Baixo</td>\n",
              "      <td>CENTRO DE ENSINO PROFESSOR NEWTON NEVES - ANEX...</td>\n",
              "    </tr>\n",
              "    <tr>\n",
              "      <th>196</th>\n",
              "      <td>13036858.0</td>\n",
              "      <td>NOVA OLINDA DO NORTE</td>\n",
              "      <td>348.36</td>\n",
              "      <td>Baixo</td>\n",
              "      <td>ESCOLA MUNICIPAL VITORIA REGIA</td>\n",
              "    </tr>\n",
              "    <tr>\n",
              "      <th>46</th>\n",
              "      <td>12004642.0</td>\n",
              "      <td>FEIJÓ</td>\n",
              "      <td>348.49</td>\n",
              "      <td>Baixo</td>\n",
              "      <td>ESC INDIGENA TEKAHAYNE SHANENAWA</td>\n",
              "    </tr>\n",
              "    <tr>\n",
              "      <th>279</th>\n",
              "      <td>13077589.0</td>\n",
              "      <td>NOVA OLINDA DO NORTE</td>\n",
              "      <td>348.67</td>\n",
              "      <td>Baixo</td>\n",
              "      <td>ESCOLA MUNICIPAL PAQUEQUER</td>\n",
              "    </tr>\n",
              "    <tr>\n",
              "      <th>165</th>\n",
              "      <td>13016946.0</td>\n",
              "      <td>COARI</td>\n",
              "      <td>348.94</td>\n",
              "      <td>Baixo</td>\n",
              "      <td>ESCOLA MUNICIPAL JOAO VIEIRA</td>\n",
              "    </tr>\n",
              "    <tr>\n",
              "      <th>3976</th>\n",
              "      <td>29123038.0</td>\n",
              "      <td>QUIJINGUE</td>\n",
              "      <td>349.58</td>\n",
              "      <td>Baixo</td>\n",
              "      <td>ESCOLA MUNICIPAL DA FAZENDA LAGOA DA BARRA</td>\n",
              "    </tr>\n",
              "    <tr>\n",
              "      <th>1578</th>\n",
              "      <td>21081549.0</td>\n",
              "      <td>BURITICUPU</td>\n",
              "      <td>349.78</td>\n",
              "      <td>Baixo</td>\n",
              "      <td>UI PE EDMILSON DE SOUSA FREIRE</td>\n",
              "    </tr>\n",
              "    <tr>\n",
              "      <th>945</th>\n",
              "      <td>15151093.0</td>\n",
              "      <td>BELÉM</td>\n",
              "      <td>350.04</td>\n",
              "      <td>Baixo</td>\n",
              "      <td>CENTRO INTEGRADO DE EDUCACAO ESPECIAL</td>\n",
              "    </tr>\n",
              "    <tr>\n",
              "      <th>944</th>\n",
              "      <td>15151093.0</td>\n",
              "      <td>BELÉM</td>\n",
              "      <td>350.04</td>\n",
              "      <td>Baixo</td>\n",
              "      <td>CENTRO INTEGRADO DE EDUCACAO ESPECIAL</td>\n",
              "    </tr>\n",
              "    <tr>\n",
              "      <th>2954</th>\n",
              "      <td>25052365.0</td>\n",
              "      <td>ALCANTIL</td>\n",
              "      <td>350.16</td>\n",
              "      <td>Baixo</td>\n",
              "      <td>ESCOLA MUN ENS FUND JOSE CLEMENTE</td>\n",
              "    </tr>\n",
              "    <tr>\n",
              "      <th>2734</th>\n",
              "      <td>24028142.0</td>\n",
              "      <td>PEDRO AVELINO</td>\n",
              "      <td>350.22</td>\n",
              "      <td>Baixo</td>\n",
              "      <td>EM NADIA MARIA CAMARA ENISNO FUNDAMENTAL</td>\n",
              "    </tr>\n",
              "    <tr>\n",
              "      <th>325</th>\n",
              "      <td>13220306.0</td>\n",
              "      <td>TONANTINS</td>\n",
              "      <td>351.53</td>\n",
              "      <td>Baixo</td>\n",
              "      <td>CENTRO RURAL DE ENSINO COM MEDIACAO TECNOLOGIC...</td>\n",
              "    </tr>\n",
              "    <tr>\n",
              "      <th>1994</th>\n",
              "      <td>21278954.0</td>\n",
              "      <td>PRESIDENTE VARGAS</td>\n",
              "      <td>351.90</td>\n",
              "      <td>Baixo</td>\n",
              "      <td>ESCOLA MUNICIPAL SANTA LUZIA</td>\n",
              "    </tr>\n",
              "  </tbody>\n",
              "</table>\n",
              "</div>"
            ],
            "text/plain": [
              "          ESCOLA                  MUNICIPIO   MEDIA RANK_IDHM  \\\n",
              "47    12004766.0                      FEIJÓ  304.54     Baixo   \n",
              "3708  28010434.0             TOBIAS BARRETO  310.72     Baixo   \n",
              "940   15150020.0                 ITUPIRANGA  311.46     Baixo   \n",
              "53    12005398.0                   TARAUACÁ  314.82     Baixo   \n",
              "127   13005197.0          BENJAMIN CONSTANT  320.61     Baixo   \n",
              "1130  15516989.0                      ACARÁ  321.28     Baixo   \n",
              "328   13238213.0                    AMATURÁ  321.30     Baixo   \n",
              "1429  17028523.0                   GOIATINS  321.49     Baixo   \n",
              "173   13018906.0                    CODAJÁS  322.42     Baixo   \n",
              "2375  22077375.0                   PARNAGUÁ  322.46     Baixo   \n",
              "281   13078690.0                      MAUÉS  324.92     Baixo   \n",
              "1146  15524876.0                     GURUPÁ  327.08     Baixo   \n",
              "1447  17044049.0                   GOIATINS  327.61     Baixo   \n",
              "778   15076504.0                   MOCAJUBA  330.70     Baixo   \n",
              "967   15158551.0                 TRACUATEUA  330.70     Baixo   \n",
              "409   15024822.0                     BREVES  331.08     Baixo   \n",
              "4263  29377528.0               SOUTO SOARES  332.02     Baixo   \n",
              "2115  21371210.0                     BURITI  333.84     Baixo   \n",
              "1448  17051452.0                   GOIATINS  333.94     Baixo   \n",
              "4377  29439728.0          RIACHO DE SANTANA  334.94     Baixo   \n",
              "1790  21219320.0    SENADOR ALEXANDRE COSTA  335.48     Baixo   \n",
              "1249  15560660.0                 CURRALINHO  335.58     Baixo   \n",
              "282   13080830.0                   CARAUARI  336.38     Baixo   \n",
              "1789  21219257.0    GOVERNADOR NUNES FREIRE  336.40     Baixo   \n",
              "914   15136264.0  SANTA MARIA DAS BARREIRAS  341.14     Baixo   \n",
              "2045  21316805.0                SANTA LUZIA  341.28     Baixo   \n",
              "2044  21316805.0                SANTA LUZIA  341.28     Baixo   \n",
              "302   13096664.0      SÃO PAULO DE OLIVENÇA  343.10     Baixo   \n",
              "1109  15219003.0         SÃO FÉLIX DO XINGU  344.12     Baixo   \n",
              "1428  17028493.0                   GOIATINS  344.46     Baixo   \n",
              "4850  43200630.0                  BOM JESUS  344.88     Baixo   \n",
              "4851  43200630.0                  BOM JESUS  344.88     Baixo   \n",
              "4225  29328853.0                     VEREDA  345.72     Baixo   \n",
              "3542  27018369.0               FEIRA GRANDE  345.74     Baixo   \n",
              "1469  21028885.0               BARREIRINHAS  346.62     Baixo   \n",
              "380   15005151.0                   ALENQUER  346.84     Baixo   \n",
              "1319  15577384.0                      BAIÃO  347.02     Baixo   \n",
              "1950  21272514.0            ITAPECURU MIRIM  347.16     Baixo   \n",
              "196   13036858.0       NOVA OLINDA DO NORTE  348.36     Baixo   \n",
              "46    12004642.0                      FEIJÓ  348.49     Baixo   \n",
              "279   13077589.0       NOVA OLINDA DO NORTE  348.67     Baixo   \n",
              "165   13016946.0                      COARI  348.94     Baixo   \n",
              "3976  29123038.0                  QUIJINGUE  349.58     Baixo   \n",
              "1578  21081549.0                 BURITICUPU  349.78     Baixo   \n",
              "945   15151093.0                      BELÉM  350.04     Baixo   \n",
              "944   15151093.0                      BELÉM  350.04     Baixo   \n",
              "2954  25052365.0                   ALCANTIL  350.16     Baixo   \n",
              "2734  24028142.0              PEDRO AVELINO  350.22     Baixo   \n",
              "325   13220306.0                  TONANTINS  351.53     Baixo   \n",
              "1994  21278954.0          PRESIDENTE VARGAS  351.90     Baixo   \n",
              "\n",
              "                                            NOME_ESCOLA  \n",
              "47                                ESC PEDRO MOTA LEITAO  \n",
              "3708      ESC MUN DE ENSINO FUND TELMA DE SOUZA ALMEIDA  \n",
              "940                                E M E F SANTA ISABEL  \n",
              "53                                      ESC 15 DE JUNHO  \n",
              "127                      ESC INDIGENA PORTO CORDEIRINHO  \n",
              "1130              E M E I F CASEMIRO FRANCISCO DE PAIVA  \n",
              "328               CENTRO DE EDUCACAO INDIGENA - AMATURA  \n",
              "1429                     ESCOLA ESTADUAL INDIGENA WAPXI  \n",
              "173               ESCOLA ESTADUAL JOSE MELO DE OLIVEIRA  \n",
              "2375                             UNID ESC LAGOA DO MATO  \n",
              "281                   ESC MUN MILTON BELIZARIO DE PAIVA  \n",
              "1146                         EMEF MANOEL JANUARIO NUNES  \n",
              "1447               ESCOLA ESTADUAL INDIGENA AGUA BRANCA  \n",
              "778                              EMEF ALMIRANTE BARROSO  \n",
              "967             ESCOLA ROSA MARTIRES RODRIGUES CEU AZUL  \n",
              "409                  E M E F PAULO RODRIGUES DOS SANTOS  \n",
              "4263                          ESCOLA MUNICIPAL OURICURI  \n",
              "2115  CENTRO DE ENSINO MARIA LUIZA NOVAES VIANA - AN...  \n",
              "1448                            ESCOLA INDIGENA XEPJAKA  \n",
              "4377    COLEGIO MUNICIPAL MARIA AMARAL GUIMARAES GONDIM  \n",
              "1790             UNIDADE INTEGRADA ALZIRA CESAR MENESES  \n",
              "1249                  E M E F FRANCISCO CHAGAS DA SILVA  \n",
              "282                   ESC MUN SAO FRANCISCO - BOM JESUS  \n",
              "1789            UNIDADE ESCOLAR GOVERNADOR NUNES FREIRE  \n",
              "914                          E M E I F MARCELO DEL SANT  \n",
              "2045                        CE TRAVASSO FURTADO ANEXO I  \n",
              "2044                        CE TRAVASSO FURTADO ANEXO I  \n",
              "302                     ESCOLA ESTADUAL INDIGENA POGUTA  \n",
              "1109  ASSOCIACAO DAS FAMILIAS ESCOLA COMUNITARIA CAS...  \n",
              "1428                            ESCOLA INDIGENA CROKROC  \n",
              "4850             ESC MUN DE EDU INF E ENS FUN BOM JESUS  \n",
              "4851             ESC MUN DE EDU INF E ENS FUN BOM JESUS  \n",
              "4225           ESCOLA MUNICIPAL LIEGE DANTAS FIGUEIREDO  \n",
              "3542  ESCOLA MUNICIPAL DE ENSINO FUNDAMENTAL VERIDIA...  \n",
              "1469              UI JOAO BERNARDO FRANCISCO DOS SANTOS  \n",
              "380                               EEEF FULGENCIO SIMOES  \n",
              "1319                 E M E I PROF ESMAEL ALVES DE SOUZA  \n",
              "1950  CENTRO DE ENSINO PROFESSOR NEWTON NEVES - ANEX...  \n",
              "196                      ESCOLA MUNICIPAL VITORIA REGIA  \n",
              "46                     ESC INDIGENA TEKAHAYNE SHANENAWA  \n",
              "279                          ESCOLA MUNICIPAL PAQUEQUER  \n",
              "165                        ESCOLA MUNICIPAL JOAO VIEIRA  \n",
              "3976         ESCOLA MUNICIPAL DA FAZENDA LAGOA DA BARRA  \n",
              "1578                     UI PE EDMILSON DE SOUSA FREIRE  \n",
              "945               CENTRO INTEGRADO DE EDUCACAO ESPECIAL  \n",
              "944               CENTRO INTEGRADO DE EDUCACAO ESPECIAL  \n",
              "2954                  ESCOLA MUN ENS FUND JOSE CLEMENTE  \n",
              "2734           EM NADIA MARIA CAMARA ENISNO FUNDAMENTAL  \n",
              "325   CENTRO RURAL DE ENSINO COM MEDIACAO TECNOLOGIC...  \n",
              "1994                       ESCOLA MUNICIPAL SANTA LUZIA  "
            ]
          },
          "metadata": {},
          "output_type": "display_data"
        }
      ],
      "source": [
        "display(df_muitobaixo, df_baixo)"
      ]
    }
  ],
  "metadata": {
    "kernelspec": {
      "display_name": "Python [conda env:ds-env]",
      "language": "python",
      "name": "conda-env-ds-env-py"
    },
    "language_info": {
      "codemirror_mode": {
        "name": "ipython",
        "version": 3
      },
      "file_extension": ".py",
      "mimetype": "text/x-python",
      "name": "python",
      "nbconvert_exporter": "python",
      "pygments_lexer": "ipython3",
      "version": "3.9.7"
    },
    "colab": {
      "name": "Desafio_Análise_de_Dados_do_ENEM_e_IDH.ipynb",
      "provenance": [],
      "include_colab_link": true
    }
  },
  "nbformat": 4,
  "nbformat_minor": 5
}